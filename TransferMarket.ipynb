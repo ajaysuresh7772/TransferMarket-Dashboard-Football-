{
  "nbformat": 4,
  "nbformat_minor": 0,
  "metadata": {
    "colab": {
      "provenance": []
    },
    "kernelspec": {
      "name": "python3",
      "display_name": "Python 3"
    },
    "language_info": {
      "name": "python"
    }
  },
  "cells": [
    {
      "cell_type": "code",
      "execution_count": null,
      "metadata": {
        "id": "NTRIp0731eEo"
      },
      "outputs": [],
      "source": [
        "import pandas as pd\n",
        "import numpy as np\n",
        "import matplotlib.pyplot as plt\n",
        "import seaborn as sns\n",
        "%matplotlib inline\n"
      ]
    },
    {
      "cell_type": "markdown",
      "source": [
        "Here 'df' represents the database players the details of each players are stored"
      ],
      "metadata": {
        "id": "jsmEnGuzEdXT"
      }
    },
    {
      "cell_type": "code",
      "source": [
        "df = pd.read_csv('/content/players.csv')\n"
      ],
      "metadata": {
        "id": "HE4ivDNU12cj"
      },
      "execution_count": null,
      "outputs": []
    },
    {
      "cell_type": "code",
      "source": [
        "df.head()\n"
      ],
      "metadata": {
        "colab": {
          "base_uri": "https://localhost:8080/",
          "height": 342
        },
        "id": "F3fmd9rs2SQD",
        "outputId": "7009be63-aa0f-4c59-99a4-ea71c124b51b"
      },
      "execution_count": null,
      "outputs": [
        {
          "output_type": "execute_result",
          "data": {
            "text/plain": [
              "   player_id first_name     last_name                name  last_season  \\\n",
              "0         10   Miroslav         Klose      Miroslav Klose         2015   \n",
              "1         26      Roman  Weidenfeller  Roman Weidenfeller         2017   \n",
              "2         65    Dimitar      Berbatov    Dimitar Berbatov         2015   \n",
              "3         77        NaN         Lúcio               Lúcio         2012   \n",
              "4         80        Tom        Starke          Tom Starke         2017   \n",
              "\n",
              "   current_club_id         player_code    country_of_birth city_of_birth  \\\n",
              "0              398      miroslav-klose              Poland         Opole   \n",
              "1               16  roman-weidenfeller             Germany          Diez   \n",
              "2             1091    dimitar-berbatov            Bulgaria   Blagoevgrad   \n",
              "3              506               lucio              Brazil      Brasília   \n",
              "4               27          tom-starke  East Germany (GDR)       Freital   \n",
              "\n",
              "  country_of_citizenship  ...   foot height_in_cm contract_expiration_date  \\\n",
              "0                Germany  ...  right        184.0                      NaN   \n",
              "1                Germany  ...   left        190.0                      NaN   \n",
              "2               Bulgaria  ...    NaN          NaN                      NaN   \n",
              "3                 Brazil  ...    NaN          NaN                      NaN   \n",
              "4                Germany  ...  right        194.0                      NaN   \n",
              "\n",
              "             agent_name                                          image_url  \\\n",
              "0  ASBW Sport Marketing  https://img.a.transfermarkt.technology/portrai...   \n",
              "1      Neubauer 13 GmbH  https://img.a.transfermarkt.technology/portrai...   \n",
              "2       CSKA-AS-23 Ltd.  https://img.a.transfermarkt.technology/portrai...   \n",
              "3                   NaN  https://img.a.transfermarkt.technology/portrai...   \n",
              "4                   IFM  https://img.a.transfermarkt.technology/portrai...   \n",
              "\n",
              "                                                 url  \\\n",
              "0  https://www.transfermarkt.co.uk/miroslav-klose...   \n",
              "1  https://www.transfermarkt.co.uk/roman-weidenfe...   \n",
              "2  https://www.transfermarkt.co.uk/dimitar-berbat...   \n",
              "3  https://www.transfermarkt.co.uk/lucio/profil/s...   \n",
              "4  https://www.transfermarkt.co.uk/tom-starke/pro...   \n",
              "\n",
              "  current_club_domestic_competition_id  \\\n",
              "0                                  IT1   \n",
              "1                                   L1   \n",
              "2                                  GR1   \n",
              "3                                  IT1   \n",
              "4                                   L1   \n",
              "\n",
              "                                   current_club_name market_value_in_eur  \\\n",
              "0                      Società Sportiva Lazio S.p.A.           1000000.0   \n",
              "1                                  Borussia Dortmund            750000.0   \n",
              "2  Panthessalonikios Athlitikos Omilos Konstantin...           1000000.0   \n",
              "3                             Juventus Football Club            200000.0   \n",
              "4                                  FC Bayern München            100000.0   \n",
              "\n",
              "  highest_market_value_in_eur  \n",
              "0                  30000000.0  \n",
              "1                   8000000.0  \n",
              "2                  34500000.0  \n",
              "3                  24500000.0  \n",
              "4                   3000000.0  \n",
              "\n",
              "[5 rows x 23 columns]"
            ],
            "text/html": [
              "\n",
              "  <div id=\"df-bd5509e5-e480-40e6-94d7-8cec1dd1e937\" class=\"colab-df-container\">\n",
              "    <div>\n",
              "<style scoped>\n",
              "    .dataframe tbody tr th:only-of-type {\n",
              "        vertical-align: middle;\n",
              "    }\n",
              "\n",
              "    .dataframe tbody tr th {\n",
              "        vertical-align: top;\n",
              "    }\n",
              "\n",
              "    .dataframe thead th {\n",
              "        text-align: right;\n",
              "    }\n",
              "</style>\n",
              "<table border=\"1\" class=\"dataframe\">\n",
              "  <thead>\n",
              "    <tr style=\"text-align: right;\">\n",
              "      <th></th>\n",
              "      <th>player_id</th>\n",
              "      <th>first_name</th>\n",
              "      <th>last_name</th>\n",
              "      <th>name</th>\n",
              "      <th>last_season</th>\n",
              "      <th>current_club_id</th>\n",
              "      <th>player_code</th>\n",
              "      <th>country_of_birth</th>\n",
              "      <th>city_of_birth</th>\n",
              "      <th>country_of_citizenship</th>\n",
              "      <th>...</th>\n",
              "      <th>foot</th>\n",
              "      <th>height_in_cm</th>\n",
              "      <th>contract_expiration_date</th>\n",
              "      <th>agent_name</th>\n",
              "      <th>image_url</th>\n",
              "      <th>url</th>\n",
              "      <th>current_club_domestic_competition_id</th>\n",
              "      <th>current_club_name</th>\n",
              "      <th>market_value_in_eur</th>\n",
              "      <th>highest_market_value_in_eur</th>\n",
              "    </tr>\n",
              "  </thead>\n",
              "  <tbody>\n",
              "    <tr>\n",
              "      <th>0</th>\n",
              "      <td>10</td>\n",
              "      <td>Miroslav</td>\n",
              "      <td>Klose</td>\n",
              "      <td>Miroslav Klose</td>\n",
              "      <td>2015</td>\n",
              "      <td>398</td>\n",
              "      <td>miroslav-klose</td>\n",
              "      <td>Poland</td>\n",
              "      <td>Opole</td>\n",
              "      <td>Germany</td>\n",
              "      <td>...</td>\n",
              "      <td>right</td>\n",
              "      <td>184.0</td>\n",
              "      <td>NaN</td>\n",
              "      <td>ASBW Sport Marketing</td>\n",
              "      <td>https://img.a.transfermarkt.technology/portrai...</td>\n",
              "      <td>https://www.transfermarkt.co.uk/miroslav-klose...</td>\n",
              "      <td>IT1</td>\n",
              "      <td>Società Sportiva Lazio S.p.A.</td>\n",
              "      <td>1000000.0</td>\n",
              "      <td>30000000.0</td>\n",
              "    </tr>\n",
              "    <tr>\n",
              "      <th>1</th>\n",
              "      <td>26</td>\n",
              "      <td>Roman</td>\n",
              "      <td>Weidenfeller</td>\n",
              "      <td>Roman Weidenfeller</td>\n",
              "      <td>2017</td>\n",
              "      <td>16</td>\n",
              "      <td>roman-weidenfeller</td>\n",
              "      <td>Germany</td>\n",
              "      <td>Diez</td>\n",
              "      <td>Germany</td>\n",
              "      <td>...</td>\n",
              "      <td>left</td>\n",
              "      <td>190.0</td>\n",
              "      <td>NaN</td>\n",
              "      <td>Neubauer 13 GmbH</td>\n",
              "      <td>https://img.a.transfermarkt.technology/portrai...</td>\n",
              "      <td>https://www.transfermarkt.co.uk/roman-weidenfe...</td>\n",
              "      <td>L1</td>\n",
              "      <td>Borussia Dortmund</td>\n",
              "      <td>750000.0</td>\n",
              "      <td>8000000.0</td>\n",
              "    </tr>\n",
              "    <tr>\n",
              "      <th>2</th>\n",
              "      <td>65</td>\n",
              "      <td>Dimitar</td>\n",
              "      <td>Berbatov</td>\n",
              "      <td>Dimitar Berbatov</td>\n",
              "      <td>2015</td>\n",
              "      <td>1091</td>\n",
              "      <td>dimitar-berbatov</td>\n",
              "      <td>Bulgaria</td>\n",
              "      <td>Blagoevgrad</td>\n",
              "      <td>Bulgaria</td>\n",
              "      <td>...</td>\n",
              "      <td>NaN</td>\n",
              "      <td>NaN</td>\n",
              "      <td>NaN</td>\n",
              "      <td>CSKA-AS-23 Ltd.</td>\n",
              "      <td>https://img.a.transfermarkt.technology/portrai...</td>\n",
              "      <td>https://www.transfermarkt.co.uk/dimitar-berbat...</td>\n",
              "      <td>GR1</td>\n",
              "      <td>Panthessalonikios Athlitikos Omilos Konstantin...</td>\n",
              "      <td>1000000.0</td>\n",
              "      <td>34500000.0</td>\n",
              "    </tr>\n",
              "    <tr>\n",
              "      <th>3</th>\n",
              "      <td>77</td>\n",
              "      <td>NaN</td>\n",
              "      <td>Lúcio</td>\n",
              "      <td>Lúcio</td>\n",
              "      <td>2012</td>\n",
              "      <td>506</td>\n",
              "      <td>lucio</td>\n",
              "      <td>Brazil</td>\n",
              "      <td>Brasília</td>\n",
              "      <td>Brazil</td>\n",
              "      <td>...</td>\n",
              "      <td>NaN</td>\n",
              "      <td>NaN</td>\n",
              "      <td>NaN</td>\n",
              "      <td>NaN</td>\n",
              "      <td>https://img.a.transfermarkt.technology/portrai...</td>\n",
              "      <td>https://www.transfermarkt.co.uk/lucio/profil/s...</td>\n",
              "      <td>IT1</td>\n",
              "      <td>Juventus Football Club</td>\n",
              "      <td>200000.0</td>\n",
              "      <td>24500000.0</td>\n",
              "    </tr>\n",
              "    <tr>\n",
              "      <th>4</th>\n",
              "      <td>80</td>\n",
              "      <td>Tom</td>\n",
              "      <td>Starke</td>\n",
              "      <td>Tom Starke</td>\n",
              "      <td>2017</td>\n",
              "      <td>27</td>\n",
              "      <td>tom-starke</td>\n",
              "      <td>East Germany (GDR)</td>\n",
              "      <td>Freital</td>\n",
              "      <td>Germany</td>\n",
              "      <td>...</td>\n",
              "      <td>right</td>\n",
              "      <td>194.0</td>\n",
              "      <td>NaN</td>\n",
              "      <td>IFM</td>\n",
              "      <td>https://img.a.transfermarkt.technology/portrai...</td>\n",
              "      <td>https://www.transfermarkt.co.uk/tom-starke/pro...</td>\n",
              "      <td>L1</td>\n",
              "      <td>FC Bayern München</td>\n",
              "      <td>100000.0</td>\n",
              "      <td>3000000.0</td>\n",
              "    </tr>\n",
              "  </tbody>\n",
              "</table>\n",
              "<p>5 rows × 23 columns</p>\n",
              "</div>\n",
              "    <div class=\"colab-df-buttons\">\n",
              "\n",
              "  <div class=\"colab-df-container\">\n",
              "    <button class=\"colab-df-convert\" onclick=\"convertToInteractive('df-bd5509e5-e480-40e6-94d7-8cec1dd1e937')\"\n",
              "            title=\"Convert this dataframe to an interactive table.\"\n",
              "            style=\"display:none;\">\n",
              "\n",
              "  <svg xmlns=\"http://www.w3.org/2000/svg\" height=\"24px\" viewBox=\"0 -960 960 960\">\n",
              "    <path d=\"M120-120v-720h720v720H120Zm60-500h600v-160H180v160Zm220 220h160v-160H400v160Zm0 220h160v-160H400v160ZM180-400h160v-160H180v160Zm440 0h160v-160H620v160ZM180-180h160v-160H180v160Zm440 0h160v-160H620v160Z\"/>\n",
              "  </svg>\n",
              "    </button>\n",
              "\n",
              "  <style>\n",
              "    .colab-df-container {\n",
              "      display:flex;\n",
              "      gap: 12px;\n",
              "    }\n",
              "\n",
              "    .colab-df-convert {\n",
              "      background-color: #E8F0FE;\n",
              "      border: none;\n",
              "      border-radius: 50%;\n",
              "      cursor: pointer;\n",
              "      display: none;\n",
              "      fill: #1967D2;\n",
              "      height: 32px;\n",
              "      padding: 0 0 0 0;\n",
              "      width: 32px;\n",
              "    }\n",
              "\n",
              "    .colab-df-convert:hover {\n",
              "      background-color: #E2EBFA;\n",
              "      box-shadow: 0px 1px 2px rgba(60, 64, 67, 0.3), 0px 1px 3px 1px rgba(60, 64, 67, 0.15);\n",
              "      fill: #174EA6;\n",
              "    }\n",
              "\n",
              "    .colab-df-buttons div {\n",
              "      margin-bottom: 4px;\n",
              "    }\n",
              "\n",
              "    [theme=dark] .colab-df-convert {\n",
              "      background-color: #3B4455;\n",
              "      fill: #D2E3FC;\n",
              "    }\n",
              "\n",
              "    [theme=dark] .colab-df-convert:hover {\n",
              "      background-color: #434B5C;\n",
              "      box-shadow: 0px 1px 3px 1px rgba(0, 0, 0, 0.15);\n",
              "      filter: drop-shadow(0px 1px 2px rgba(0, 0, 0, 0.3));\n",
              "      fill: #FFFFFF;\n",
              "    }\n",
              "  </style>\n",
              "\n",
              "    <script>\n",
              "      const buttonEl =\n",
              "        document.querySelector('#df-bd5509e5-e480-40e6-94d7-8cec1dd1e937 button.colab-df-convert');\n",
              "      buttonEl.style.display =\n",
              "        google.colab.kernel.accessAllowed ? 'block' : 'none';\n",
              "\n",
              "      async function convertToInteractive(key) {\n",
              "        const element = document.querySelector('#df-bd5509e5-e480-40e6-94d7-8cec1dd1e937');\n",
              "        const dataTable =\n",
              "          await google.colab.kernel.invokeFunction('convertToInteractive',\n",
              "                                                    [key], {});\n",
              "        if (!dataTable) return;\n",
              "\n",
              "        const docLinkHtml = 'Like what you see? Visit the ' +\n",
              "          '<a target=\"_blank\" href=https://colab.research.google.com/notebooks/data_table.ipynb>data table notebook</a>'\n",
              "          + ' to learn more about interactive tables.';\n",
              "        element.innerHTML = '';\n",
              "        dataTable['output_type'] = 'display_data';\n",
              "        await google.colab.output.renderOutput(dataTable, element);\n",
              "        const docLink = document.createElement('div');\n",
              "        docLink.innerHTML = docLinkHtml;\n",
              "        element.appendChild(docLink);\n",
              "      }\n",
              "    </script>\n",
              "  </div>\n",
              "\n",
              "\n",
              "<div id=\"df-bf131d37-f60c-426a-ae3a-12f6e58c222e\">\n",
              "  <button class=\"colab-df-quickchart\" onclick=\"quickchart('df-bf131d37-f60c-426a-ae3a-12f6e58c222e')\"\n",
              "            title=\"Suggest charts\"\n",
              "            style=\"display:none;\">\n",
              "\n",
              "<svg xmlns=\"http://www.w3.org/2000/svg\" height=\"24px\"viewBox=\"0 0 24 24\"\n",
              "     width=\"24px\">\n",
              "    <g>\n",
              "        <path d=\"M19 3H5c-1.1 0-2 .9-2 2v14c0 1.1.9 2 2 2h14c1.1 0 2-.9 2-2V5c0-1.1-.9-2-2-2zM9 17H7v-7h2v7zm4 0h-2V7h2v10zm4 0h-2v-4h2v4z\"/>\n",
              "    </g>\n",
              "</svg>\n",
              "  </button>\n",
              "\n",
              "<style>\n",
              "  .colab-df-quickchart {\n",
              "      --bg-color: #E8F0FE;\n",
              "      --fill-color: #1967D2;\n",
              "      --hover-bg-color: #E2EBFA;\n",
              "      --hover-fill-color: #174EA6;\n",
              "      --disabled-fill-color: #AAA;\n",
              "      --disabled-bg-color: #DDD;\n",
              "  }\n",
              "\n",
              "  [theme=dark] .colab-df-quickchart {\n",
              "      --bg-color: #3B4455;\n",
              "      --fill-color: #D2E3FC;\n",
              "      --hover-bg-color: #434B5C;\n",
              "      --hover-fill-color: #FFFFFF;\n",
              "      --disabled-bg-color: #3B4455;\n",
              "      --disabled-fill-color: #666;\n",
              "  }\n",
              "\n",
              "  .colab-df-quickchart {\n",
              "    background-color: var(--bg-color);\n",
              "    border: none;\n",
              "    border-radius: 50%;\n",
              "    cursor: pointer;\n",
              "    display: none;\n",
              "    fill: var(--fill-color);\n",
              "    height: 32px;\n",
              "    padding: 0;\n",
              "    width: 32px;\n",
              "  }\n",
              "\n",
              "  .colab-df-quickchart:hover {\n",
              "    background-color: var(--hover-bg-color);\n",
              "    box-shadow: 0 1px 2px rgba(60, 64, 67, 0.3), 0 1px 3px 1px rgba(60, 64, 67, 0.15);\n",
              "    fill: var(--button-hover-fill-color);\n",
              "  }\n",
              "\n",
              "  .colab-df-quickchart-complete:disabled,\n",
              "  .colab-df-quickchart-complete:disabled:hover {\n",
              "    background-color: var(--disabled-bg-color);\n",
              "    fill: var(--disabled-fill-color);\n",
              "    box-shadow: none;\n",
              "  }\n",
              "\n",
              "  .colab-df-spinner {\n",
              "    border: 2px solid var(--fill-color);\n",
              "    border-color: transparent;\n",
              "    border-bottom-color: var(--fill-color);\n",
              "    animation:\n",
              "      spin 1s steps(1) infinite;\n",
              "  }\n",
              "\n",
              "  @keyframes spin {\n",
              "    0% {\n",
              "      border-color: transparent;\n",
              "      border-bottom-color: var(--fill-color);\n",
              "      border-left-color: var(--fill-color);\n",
              "    }\n",
              "    20% {\n",
              "      border-color: transparent;\n",
              "      border-left-color: var(--fill-color);\n",
              "      border-top-color: var(--fill-color);\n",
              "    }\n",
              "    30% {\n",
              "      border-color: transparent;\n",
              "      border-left-color: var(--fill-color);\n",
              "      border-top-color: var(--fill-color);\n",
              "      border-right-color: var(--fill-color);\n",
              "    }\n",
              "    40% {\n",
              "      border-color: transparent;\n",
              "      border-right-color: var(--fill-color);\n",
              "      border-top-color: var(--fill-color);\n",
              "    }\n",
              "    60% {\n",
              "      border-color: transparent;\n",
              "      border-right-color: var(--fill-color);\n",
              "    }\n",
              "    80% {\n",
              "      border-color: transparent;\n",
              "      border-right-color: var(--fill-color);\n",
              "      border-bottom-color: var(--fill-color);\n",
              "    }\n",
              "    90% {\n",
              "      border-color: transparent;\n",
              "      border-bottom-color: var(--fill-color);\n",
              "    }\n",
              "  }\n",
              "</style>\n",
              "\n",
              "  <script>\n",
              "    async function quickchart(key) {\n",
              "      const quickchartButtonEl =\n",
              "        document.querySelector('#' + key + ' button');\n",
              "      quickchartButtonEl.disabled = true;  // To prevent multiple clicks.\n",
              "      quickchartButtonEl.classList.add('colab-df-spinner');\n",
              "      try {\n",
              "        const charts = await google.colab.kernel.invokeFunction(\n",
              "            'suggestCharts', [key], {});\n",
              "      } catch (error) {\n",
              "        console.error('Error during call to suggestCharts:', error);\n",
              "      }\n",
              "      quickchartButtonEl.classList.remove('colab-df-spinner');\n",
              "      quickchartButtonEl.classList.add('colab-df-quickchart-complete');\n",
              "    }\n",
              "    (() => {\n",
              "      let quickchartButtonEl =\n",
              "        document.querySelector('#df-bf131d37-f60c-426a-ae3a-12f6e58c222e button');\n",
              "      quickchartButtonEl.style.display =\n",
              "        google.colab.kernel.accessAllowed ? 'block' : 'none';\n",
              "    })();\n",
              "  </script>\n",
              "</div>\n",
              "\n",
              "    </div>\n",
              "  </div>\n"
            ],
            "application/vnd.google.colaboratory.intrinsic+json": {
              "type": "dataframe",
              "variable_name": "df"
            }
          },
          "metadata": {},
          "execution_count": 5
        }
      ]
    },
    {
      "cell_type": "code",
      "source": [
        "df.info()\n"
      ],
      "metadata": {
        "colab": {
          "base_uri": "https://localhost:8080/"
        },
        "id": "LOK3HtcC2dkD",
        "outputId": "386cbaf8-a385-4039-f620-f8dab8fc12ca"
      },
      "execution_count": null,
      "outputs": [
        {
          "output_type": "stream",
          "name": "stdout",
          "text": [
            "<class 'pandas.core.frame.DataFrame'>\n",
            "RangeIndex: 15629 entries, 0 to 15628\n",
            "Data columns (total 23 columns):\n",
            " #   Column                                Non-Null Count  Dtype  \n",
            "---  ------                                --------------  -----  \n",
            " 0   player_id                             15629 non-null  int64  \n",
            " 1   first_name                            14575 non-null  object \n",
            " 2   last_name                             15629 non-null  object \n",
            " 3   name                                  15629 non-null  object \n",
            " 4   last_season                           15629 non-null  int64  \n",
            " 5   current_club_id                       15629 non-null  int64  \n",
            " 6   player_code                           15629 non-null  object \n",
            " 7   country_of_birth                      15110 non-null  object \n",
            " 8   city_of_birth                         15275 non-null  object \n",
            " 9   country_of_citizenship                15466 non-null  object \n",
            " 10  date_of_birth                         15606 non-null  object \n",
            " 11  sub_position                          15558 non-null  object \n",
            " 12  position                              15629 non-null  object \n",
            " 13  foot                                  14875 non-null  object \n",
            " 14  height_in_cm                          15115 non-null  float64\n",
            " 15  contract_expiration_date              7511 non-null   object \n",
            " 16  agent_name                            6758 non-null   object \n",
            " 17  image_url                             15629 non-null  object \n",
            " 18  url                                   15629 non-null  object \n",
            " 19  current_club_domestic_competition_id  15628 non-null  object \n",
            " 20  current_club_name                     15628 non-null  object \n",
            " 21  market_value_in_eur                   15502 non-null  float64\n",
            " 22  highest_market_value_in_eur           15502 non-null  float64\n",
            "dtypes: float64(3), int64(3), object(17)\n",
            "memory usage: 2.7+ MB\n"
          ]
        }
      ]
    },
    {
      "cell_type": "markdown",
      "source": [
        "Here we have the dataset of players with the following column. From which we can analyse that the number of items on different columns differs. Eliminatoin of null values should be done"
      ],
      "metadata": {
        "id": "esnbSJ223F0U"
      }
    },
    {
      "cell_type": "code",
      "source": [
        "df.describe()\n"
      ],
      "metadata": {
        "colab": {
          "base_uri": "https://localhost:8080/",
          "height": 320
        },
        "id": "_8UAGDM12f7u",
        "outputId": "c5db37e7-2a92-48d1-b060-1f50a37f0398"
      },
      "execution_count": null,
      "outputs": [
        {
          "output_type": "execute_result",
          "data": {
            "text/plain": [
              "           player_id   last_season  current_club_id  height_in_cm  \\\n",
              "count   24808.000000  24808.000000     24808.000000  23747.000000   \n",
              "mean   218037.774226   2018.128588      4121.094486    182.200994   \n",
              "std    156026.153967      3.685197      9397.465345      6.637697   \n",
              "min        10.000000   2012.000000         3.000000    159.000000   \n",
              "25%     72739.000000   2015.000000       398.000000    178.000000   \n",
              "50%    197665.000000   2018.000000      1063.000000    182.000000   \n",
              "75%    341062.250000   2022.000000      2999.000000    187.000000   \n",
              "max    554173.000000   2023.000000     83678.000000    207.000000   \n",
              "\n",
              "       market_value_in_eur  highest_market_value_in_eur  \n",
              "count         2.431300e+04                 2.431300e+04  \n",
              "mean          1.502109e+06                 4.033729e+06  \n",
              "std           6.060672e+06                 1.003066e+07  \n",
              "min           1.000000e+04                 1.000000e+04  \n",
              "25%           1.000000e+05                 3.500000e+05  \n",
              "50%           2.500000e+05                 9.000000e+05  \n",
              "75%           6.000000e+05                 3.000000e+06  \n",
              "max           1.800000e+08                 2.000000e+08  "
            ],
            "text/html": [
              "\n",
              "  <div id=\"df-18eb9f27-2c85-4683-855d-615e0d47c71e\" class=\"colab-df-container\">\n",
              "    <div>\n",
              "<style scoped>\n",
              "    .dataframe tbody tr th:only-of-type {\n",
              "        vertical-align: middle;\n",
              "    }\n",
              "\n",
              "    .dataframe tbody tr th {\n",
              "        vertical-align: top;\n",
              "    }\n",
              "\n",
              "    .dataframe thead th {\n",
              "        text-align: right;\n",
              "    }\n",
              "</style>\n",
              "<table border=\"1\" class=\"dataframe\">\n",
              "  <thead>\n",
              "    <tr style=\"text-align: right;\">\n",
              "      <th></th>\n",
              "      <th>player_id</th>\n",
              "      <th>last_season</th>\n",
              "      <th>current_club_id</th>\n",
              "      <th>height_in_cm</th>\n",
              "      <th>market_value_in_eur</th>\n",
              "      <th>highest_market_value_in_eur</th>\n",
              "    </tr>\n",
              "  </thead>\n",
              "  <tbody>\n",
              "    <tr>\n",
              "      <th>count</th>\n",
              "      <td>24808.000000</td>\n",
              "      <td>24808.000000</td>\n",
              "      <td>24808.000000</td>\n",
              "      <td>23747.000000</td>\n",
              "      <td>2.431300e+04</td>\n",
              "      <td>2.431300e+04</td>\n",
              "    </tr>\n",
              "    <tr>\n",
              "      <th>mean</th>\n",
              "      <td>218037.774226</td>\n",
              "      <td>2018.128588</td>\n",
              "      <td>4121.094486</td>\n",
              "      <td>182.200994</td>\n",
              "      <td>1.502109e+06</td>\n",
              "      <td>4.033729e+06</td>\n",
              "    </tr>\n",
              "    <tr>\n",
              "      <th>std</th>\n",
              "      <td>156026.153967</td>\n",
              "      <td>3.685197</td>\n",
              "      <td>9397.465345</td>\n",
              "      <td>6.637697</td>\n",
              "      <td>6.060672e+06</td>\n",
              "      <td>1.003066e+07</td>\n",
              "    </tr>\n",
              "    <tr>\n",
              "      <th>min</th>\n",
              "      <td>10.000000</td>\n",
              "      <td>2012.000000</td>\n",
              "      <td>3.000000</td>\n",
              "      <td>159.000000</td>\n",
              "      <td>1.000000e+04</td>\n",
              "      <td>1.000000e+04</td>\n",
              "    </tr>\n",
              "    <tr>\n",
              "      <th>25%</th>\n",
              "      <td>72739.000000</td>\n",
              "      <td>2015.000000</td>\n",
              "      <td>398.000000</td>\n",
              "      <td>178.000000</td>\n",
              "      <td>1.000000e+05</td>\n",
              "      <td>3.500000e+05</td>\n",
              "    </tr>\n",
              "    <tr>\n",
              "      <th>50%</th>\n",
              "      <td>197665.000000</td>\n",
              "      <td>2018.000000</td>\n",
              "      <td>1063.000000</td>\n",
              "      <td>182.000000</td>\n",
              "      <td>2.500000e+05</td>\n",
              "      <td>9.000000e+05</td>\n",
              "    </tr>\n",
              "    <tr>\n",
              "      <th>75%</th>\n",
              "      <td>341062.250000</td>\n",
              "      <td>2022.000000</td>\n",
              "      <td>2999.000000</td>\n",
              "      <td>187.000000</td>\n",
              "      <td>6.000000e+05</td>\n",
              "      <td>3.000000e+06</td>\n",
              "    </tr>\n",
              "    <tr>\n",
              "      <th>max</th>\n",
              "      <td>554173.000000</td>\n",
              "      <td>2023.000000</td>\n",
              "      <td>83678.000000</td>\n",
              "      <td>207.000000</td>\n",
              "      <td>1.800000e+08</td>\n",
              "      <td>2.000000e+08</td>\n",
              "    </tr>\n",
              "  </tbody>\n",
              "</table>\n",
              "</div>\n",
              "    <div class=\"colab-df-buttons\">\n",
              "\n",
              "  <div class=\"colab-df-container\">\n",
              "    <button class=\"colab-df-convert\" onclick=\"convertToInteractive('df-18eb9f27-2c85-4683-855d-615e0d47c71e')\"\n",
              "            title=\"Convert this dataframe to an interactive table.\"\n",
              "            style=\"display:none;\">\n",
              "\n",
              "  <svg xmlns=\"http://www.w3.org/2000/svg\" height=\"24px\" viewBox=\"0 -960 960 960\">\n",
              "    <path d=\"M120-120v-720h720v720H120Zm60-500h600v-160H180v160Zm220 220h160v-160H400v160Zm0 220h160v-160H400v160ZM180-400h160v-160H180v160Zm440 0h160v-160H620v160ZM180-180h160v-160H180v160Zm440 0h160v-160H620v160Z\"/>\n",
              "  </svg>\n",
              "    </button>\n",
              "\n",
              "  <style>\n",
              "    .colab-df-container {\n",
              "      display:flex;\n",
              "      gap: 12px;\n",
              "    }\n",
              "\n",
              "    .colab-df-convert {\n",
              "      background-color: #E8F0FE;\n",
              "      border: none;\n",
              "      border-radius: 50%;\n",
              "      cursor: pointer;\n",
              "      display: none;\n",
              "      fill: #1967D2;\n",
              "      height: 32px;\n",
              "      padding: 0 0 0 0;\n",
              "      width: 32px;\n",
              "    }\n",
              "\n",
              "    .colab-df-convert:hover {\n",
              "      background-color: #E2EBFA;\n",
              "      box-shadow: 0px 1px 2px rgba(60, 64, 67, 0.3), 0px 1px 3px 1px rgba(60, 64, 67, 0.15);\n",
              "      fill: #174EA6;\n",
              "    }\n",
              "\n",
              "    .colab-df-buttons div {\n",
              "      margin-bottom: 4px;\n",
              "    }\n",
              "\n",
              "    [theme=dark] .colab-df-convert {\n",
              "      background-color: #3B4455;\n",
              "      fill: #D2E3FC;\n",
              "    }\n",
              "\n",
              "    [theme=dark] .colab-df-convert:hover {\n",
              "      background-color: #434B5C;\n",
              "      box-shadow: 0px 1px 3px 1px rgba(0, 0, 0, 0.15);\n",
              "      filter: drop-shadow(0px 1px 2px rgba(0, 0, 0, 0.3));\n",
              "      fill: #FFFFFF;\n",
              "    }\n",
              "  </style>\n",
              "\n",
              "    <script>\n",
              "      const buttonEl =\n",
              "        document.querySelector('#df-18eb9f27-2c85-4683-855d-615e0d47c71e button.colab-df-convert');\n",
              "      buttonEl.style.display =\n",
              "        google.colab.kernel.accessAllowed ? 'block' : 'none';\n",
              "\n",
              "      async function convertToInteractive(key) {\n",
              "        const element = document.querySelector('#df-18eb9f27-2c85-4683-855d-615e0d47c71e');\n",
              "        const dataTable =\n",
              "          await google.colab.kernel.invokeFunction('convertToInteractive',\n",
              "                                                    [key], {});\n",
              "        if (!dataTable) return;\n",
              "\n",
              "        const docLinkHtml = 'Like what you see? Visit the ' +\n",
              "          '<a target=\"_blank\" href=https://colab.research.google.com/notebooks/data_table.ipynb>data table notebook</a>'\n",
              "          + ' to learn more about interactive tables.';\n",
              "        element.innerHTML = '';\n",
              "        dataTable['output_type'] = 'display_data';\n",
              "        await google.colab.output.renderOutput(dataTable, element);\n",
              "        const docLink = document.createElement('div');\n",
              "        docLink.innerHTML = docLinkHtml;\n",
              "        element.appendChild(docLink);\n",
              "      }\n",
              "    </script>\n",
              "  </div>\n",
              "\n",
              "\n",
              "<div id=\"df-9a46a5f6-9a06-439e-abd3-17cbcb1bf090\">\n",
              "  <button class=\"colab-df-quickchart\" onclick=\"quickchart('df-9a46a5f6-9a06-439e-abd3-17cbcb1bf090')\"\n",
              "            title=\"Suggest charts\"\n",
              "            style=\"display:none;\">\n",
              "\n",
              "<svg xmlns=\"http://www.w3.org/2000/svg\" height=\"24px\"viewBox=\"0 0 24 24\"\n",
              "     width=\"24px\">\n",
              "    <g>\n",
              "        <path d=\"M19 3H5c-1.1 0-2 .9-2 2v14c0 1.1.9 2 2 2h14c1.1 0 2-.9 2-2V5c0-1.1-.9-2-2-2zM9 17H7v-7h2v7zm4 0h-2V7h2v10zm4 0h-2v-4h2v4z\"/>\n",
              "    </g>\n",
              "</svg>\n",
              "  </button>\n",
              "\n",
              "<style>\n",
              "  .colab-df-quickchart {\n",
              "      --bg-color: #E8F0FE;\n",
              "      --fill-color: #1967D2;\n",
              "      --hover-bg-color: #E2EBFA;\n",
              "      --hover-fill-color: #174EA6;\n",
              "      --disabled-fill-color: #AAA;\n",
              "      --disabled-bg-color: #DDD;\n",
              "  }\n",
              "\n",
              "  [theme=dark] .colab-df-quickchart {\n",
              "      --bg-color: #3B4455;\n",
              "      --fill-color: #D2E3FC;\n",
              "      --hover-bg-color: #434B5C;\n",
              "      --hover-fill-color: #FFFFFF;\n",
              "      --disabled-bg-color: #3B4455;\n",
              "      --disabled-fill-color: #666;\n",
              "  }\n",
              "\n",
              "  .colab-df-quickchart {\n",
              "    background-color: var(--bg-color);\n",
              "    border: none;\n",
              "    border-radius: 50%;\n",
              "    cursor: pointer;\n",
              "    display: none;\n",
              "    fill: var(--fill-color);\n",
              "    height: 32px;\n",
              "    padding: 0;\n",
              "    width: 32px;\n",
              "  }\n",
              "\n",
              "  .colab-df-quickchart:hover {\n",
              "    background-color: var(--hover-bg-color);\n",
              "    box-shadow: 0 1px 2px rgba(60, 64, 67, 0.3), 0 1px 3px 1px rgba(60, 64, 67, 0.15);\n",
              "    fill: var(--button-hover-fill-color);\n",
              "  }\n",
              "\n",
              "  .colab-df-quickchart-complete:disabled,\n",
              "  .colab-df-quickchart-complete:disabled:hover {\n",
              "    background-color: var(--disabled-bg-color);\n",
              "    fill: var(--disabled-fill-color);\n",
              "    box-shadow: none;\n",
              "  }\n",
              "\n",
              "  .colab-df-spinner {\n",
              "    border: 2px solid var(--fill-color);\n",
              "    border-color: transparent;\n",
              "    border-bottom-color: var(--fill-color);\n",
              "    animation:\n",
              "      spin 1s steps(1) infinite;\n",
              "  }\n",
              "\n",
              "  @keyframes spin {\n",
              "    0% {\n",
              "      border-color: transparent;\n",
              "      border-bottom-color: var(--fill-color);\n",
              "      border-left-color: var(--fill-color);\n",
              "    }\n",
              "    20% {\n",
              "      border-color: transparent;\n",
              "      border-left-color: var(--fill-color);\n",
              "      border-top-color: var(--fill-color);\n",
              "    }\n",
              "    30% {\n",
              "      border-color: transparent;\n",
              "      border-left-color: var(--fill-color);\n",
              "      border-top-color: var(--fill-color);\n",
              "      border-right-color: var(--fill-color);\n",
              "    }\n",
              "    40% {\n",
              "      border-color: transparent;\n",
              "      border-right-color: var(--fill-color);\n",
              "      border-top-color: var(--fill-color);\n",
              "    }\n",
              "    60% {\n",
              "      border-color: transparent;\n",
              "      border-right-color: var(--fill-color);\n",
              "    }\n",
              "    80% {\n",
              "      border-color: transparent;\n",
              "      border-right-color: var(--fill-color);\n",
              "      border-bottom-color: var(--fill-color);\n",
              "    }\n",
              "    90% {\n",
              "      border-color: transparent;\n",
              "      border-bottom-color: var(--fill-color);\n",
              "    }\n",
              "  }\n",
              "</style>\n",
              "\n",
              "  <script>\n",
              "    async function quickchart(key) {\n",
              "      const quickchartButtonEl =\n",
              "        document.querySelector('#' + key + ' button');\n",
              "      quickchartButtonEl.disabled = true;  // To prevent multiple clicks.\n",
              "      quickchartButtonEl.classList.add('colab-df-spinner');\n",
              "      try {\n",
              "        const charts = await google.colab.kernel.invokeFunction(\n",
              "            'suggestCharts', [key], {});\n",
              "      } catch (error) {\n",
              "        console.error('Error during call to suggestCharts:', error);\n",
              "      }\n",
              "      quickchartButtonEl.classList.remove('colab-df-spinner');\n",
              "      quickchartButtonEl.classList.add('colab-df-quickchart-complete');\n",
              "    }\n",
              "    (() => {\n",
              "      let quickchartButtonEl =\n",
              "        document.querySelector('#df-9a46a5f6-9a06-439e-abd3-17cbcb1bf090 button');\n",
              "      quickchartButtonEl.style.display =\n",
              "        google.colab.kernel.accessAllowed ? 'block' : 'none';\n",
              "    })();\n",
              "  </script>\n",
              "</div>\n",
              "\n",
              "    </div>\n",
              "  </div>\n"
            ],
            "application/vnd.google.colaboratory.intrinsic+json": {
              "type": "dataframe",
              "summary": "{\n  \"name\": \"df\",\n  \"rows\": 8,\n  \"fields\": [\n    {\n      \"column\": \"player_id\",\n      \"properties\": {\n        \"dtype\": \"number\",\n        \"std\": 182962.85364537933,\n        \"min\": 10.0,\n        \"max\": 554173.0,\n        \"num_unique_values\": 8,\n        \"samples\": [\n          218037.77422605612,\n          197665.0,\n          24808.0\n        ],\n        \"semantic_type\": \"\",\n        \"description\": \"\"\n      }\n    },\n    {\n      \"column\": \"last_season\",\n      \"properties\": {\n        \"dtype\": \"number\",\n        \"std\": 8189.604432651921,\n        \"min\": 3.6851967436785933,\n        \"max\": 24808.0,\n        \"num_unique_values\": 8,\n        \"samples\": [\n          2018.1285875524025,\n          2018.0,\n          24808.0\n        ],\n        \"semantic_type\": \"\",\n        \"description\": \"\"\n      }\n    },\n    {\n      \"column\": \"current_club_id\",\n      \"properties\": {\n        \"dtype\": \"number\",\n        \"std\": 28620.090956438282,\n        \"min\": 3.0,\n        \"max\": 83678.0,\n        \"num_unique_values\": 8,\n        \"samples\": [\n          4121.094485649791,\n          1063.0,\n          24808.0\n        ],\n        \"semantic_type\": \"\",\n        \"description\": \"\"\n      }\n    },\n    {\n      \"column\": \"height_in_cm\",\n      \"properties\": {\n        \"dtype\": \"number\",\n        \"std\": 8340.41844807834,\n        \"min\": 6.63769742148055,\n        \"max\": 23747.0,\n        \"num_unique_values\": 8,\n        \"samples\": [\n          182.20099380974438,\n          182.0,\n          23747.0\n        ],\n        \"semantic_type\": \"\",\n        \"description\": \"\"\n      }\n    },\n    {\n      \"column\": \"market_value_in_eur\",\n      \"properties\": {\n        \"dtype\": \"number\",\n        \"std\": 63240663.24753533,\n        \"min\": 10000.0,\n        \"max\": 180000000.0,\n        \"num_unique_values\": 8,\n        \"samples\": [\n          1502109.3653600954,\n          250000.0,\n          24313.0\n        ],\n        \"semantic_type\": \"\",\n        \"description\": \"\"\n      }\n    },\n    {\n      \"column\": \"highest_market_value_in_eur\",\n      \"properties\": {\n        \"dtype\": \"number\",\n        \"std\": 69864459.39422728,\n        \"min\": 10000.0,\n        \"max\": 200000000.0,\n        \"num_unique_values\": 8,\n        \"samples\": [\n          4033729.4862830583,\n          900000.0,\n          24313.0\n        ],\n        \"semantic_type\": \"\",\n        \"description\": \"\"\n      }\n    }\n  ]\n}"
            }
          },
          "metadata": {},
          "execution_count": 8
        }
      ]
    },
    {
      "cell_type": "code",
      "source": [
        "df.isnull().sum()\n"
      ],
      "metadata": {
        "colab": {
          "base_uri": "https://localhost:8080/"
        },
        "id": "D4qQc4LS39KF",
        "outputId": "72fbd97b-e42e-4dc4-d092-e88b038ce4ed"
      },
      "execution_count": null,
      "outputs": [
        {
          "output_type": "execute_result",
          "data": {
            "text/plain": [
              "player_id                                   0\n",
              "first_name                               1612\n",
              "last_name                                   0\n",
              "name                                        0\n",
              "last_season                                 0\n",
              "current_club_id                             0\n",
              "player_code                                 0\n",
              "country_of_birth                         1409\n",
              "city_of_birth                            1061\n",
              "country_of_citizenship                    352\n",
              "date_of_birth                              38\n",
              "sub_position                              140\n",
              "position                                    1\n",
              "foot                                     1463\n",
              "height_in_cm                             1061\n",
              "contract_expiration_date                10341\n",
              "agent_name                              12946\n",
              "image_url                                   1\n",
              "url                                         1\n",
              "current_club_domestic_competition_id        1\n",
              "current_club_name                           1\n",
              "market_value_in_eur                       495\n",
              "highest_market_value_in_eur               495\n",
              "dtype: int64"
            ]
          },
          "metadata": {},
          "execution_count": 9
        }
      ]
    },
    {
      "cell_type": "code",
      "source": [
        "df1 = pd.read_csv('/content/appearances.csv')"
      ],
      "metadata": {
        "id": "L3Tk6bA24Mgk"
      },
      "execution_count": null,
      "outputs": []
    },
    {
      "cell_type": "code",
      "source": [
        "df1.head()"
      ],
      "metadata": {
        "colab": {
          "base_uri": "https://localhost:8080/",
          "height": 313
        },
        "id": "Dj-Ud_iG8i8n",
        "outputId": "23e22355-85c0-45e1-d3fb-97a81dbdfcc4"
      },
      "execution_count": null,
      "outputs": [
        {
          "output_type": "execute_result",
          "data": {
            "text/plain": [
              "    appearance_id  game_id  player_id  player_club_id  player_current_club_id  \\\n",
              "0   2231978_38004  2231978      38004             853                     235   \n",
              "1   2233748_79232  2233748      79232            8841                    2698   \n",
              "2   2234413_42792  2234413      42792            6251                     465   \n",
              "3   2234418_73333  2234418      73333            1274                    6646   \n",
              "4  2234421_122011  2234421     122011             195                    3008   \n",
              "\n",
              "         date       player_name competition_id  yellow_cards  red_cards  \\\n",
              "0  2012-07-03  Aurélien Joachim            CLQ             0          0   \n",
              "1  2012-07-05    Ruslan Abyshov            ELQ             0          0   \n",
              "2  2012-07-05       Sander Puri            ELQ             0          0   \n",
              "3  2012-07-05   Vegar Hedenstad            ELQ             0          0   \n",
              "4  2012-07-05  Markus Henriksen            ELQ             0          0   \n",
              "\n",
              "   goals  assists  minutes_played  \n",
              "0      2        0              90  \n",
              "1      0        0              90  \n",
              "2      0        0              45  \n",
              "3      0        0              90  \n",
              "4      0        1              90  "
            ],
            "text/html": [
              "\n",
              "  <div id=\"df-75187640-7c91-480f-8cd5-3bff7912d10e\" class=\"colab-df-container\">\n",
              "    <div>\n",
              "<style scoped>\n",
              "    .dataframe tbody tr th:only-of-type {\n",
              "        vertical-align: middle;\n",
              "    }\n",
              "\n",
              "    .dataframe tbody tr th {\n",
              "        vertical-align: top;\n",
              "    }\n",
              "\n",
              "    .dataframe thead th {\n",
              "        text-align: right;\n",
              "    }\n",
              "</style>\n",
              "<table border=\"1\" class=\"dataframe\">\n",
              "  <thead>\n",
              "    <tr style=\"text-align: right;\">\n",
              "      <th></th>\n",
              "      <th>appearance_id</th>\n",
              "      <th>game_id</th>\n",
              "      <th>player_id</th>\n",
              "      <th>player_club_id</th>\n",
              "      <th>player_current_club_id</th>\n",
              "      <th>date</th>\n",
              "      <th>player_name</th>\n",
              "      <th>competition_id</th>\n",
              "      <th>yellow_cards</th>\n",
              "      <th>red_cards</th>\n",
              "      <th>goals</th>\n",
              "      <th>assists</th>\n",
              "      <th>minutes_played</th>\n",
              "    </tr>\n",
              "  </thead>\n",
              "  <tbody>\n",
              "    <tr>\n",
              "      <th>0</th>\n",
              "      <td>2231978_38004</td>\n",
              "      <td>2231978</td>\n",
              "      <td>38004</td>\n",
              "      <td>853</td>\n",
              "      <td>235</td>\n",
              "      <td>2012-07-03</td>\n",
              "      <td>Aurélien Joachim</td>\n",
              "      <td>CLQ</td>\n",
              "      <td>0</td>\n",
              "      <td>0</td>\n",
              "      <td>2</td>\n",
              "      <td>0</td>\n",
              "      <td>90</td>\n",
              "    </tr>\n",
              "    <tr>\n",
              "      <th>1</th>\n",
              "      <td>2233748_79232</td>\n",
              "      <td>2233748</td>\n",
              "      <td>79232</td>\n",
              "      <td>8841</td>\n",
              "      <td>2698</td>\n",
              "      <td>2012-07-05</td>\n",
              "      <td>Ruslan Abyshov</td>\n",
              "      <td>ELQ</td>\n",
              "      <td>0</td>\n",
              "      <td>0</td>\n",
              "      <td>0</td>\n",
              "      <td>0</td>\n",
              "      <td>90</td>\n",
              "    </tr>\n",
              "    <tr>\n",
              "      <th>2</th>\n",
              "      <td>2234413_42792</td>\n",
              "      <td>2234413</td>\n",
              "      <td>42792</td>\n",
              "      <td>6251</td>\n",
              "      <td>465</td>\n",
              "      <td>2012-07-05</td>\n",
              "      <td>Sander Puri</td>\n",
              "      <td>ELQ</td>\n",
              "      <td>0</td>\n",
              "      <td>0</td>\n",
              "      <td>0</td>\n",
              "      <td>0</td>\n",
              "      <td>45</td>\n",
              "    </tr>\n",
              "    <tr>\n",
              "      <th>3</th>\n",
              "      <td>2234418_73333</td>\n",
              "      <td>2234418</td>\n",
              "      <td>73333</td>\n",
              "      <td>1274</td>\n",
              "      <td>6646</td>\n",
              "      <td>2012-07-05</td>\n",
              "      <td>Vegar Hedenstad</td>\n",
              "      <td>ELQ</td>\n",
              "      <td>0</td>\n",
              "      <td>0</td>\n",
              "      <td>0</td>\n",
              "      <td>0</td>\n",
              "      <td>90</td>\n",
              "    </tr>\n",
              "    <tr>\n",
              "      <th>4</th>\n",
              "      <td>2234421_122011</td>\n",
              "      <td>2234421</td>\n",
              "      <td>122011</td>\n",
              "      <td>195</td>\n",
              "      <td>3008</td>\n",
              "      <td>2012-07-05</td>\n",
              "      <td>Markus Henriksen</td>\n",
              "      <td>ELQ</td>\n",
              "      <td>0</td>\n",
              "      <td>0</td>\n",
              "      <td>0</td>\n",
              "      <td>1</td>\n",
              "      <td>90</td>\n",
              "    </tr>\n",
              "  </tbody>\n",
              "</table>\n",
              "</div>\n",
              "    <div class=\"colab-df-buttons\">\n",
              "\n",
              "  <div class=\"colab-df-container\">\n",
              "    <button class=\"colab-df-convert\" onclick=\"convertToInteractive('df-75187640-7c91-480f-8cd5-3bff7912d10e')\"\n",
              "            title=\"Convert this dataframe to an interactive table.\"\n",
              "            style=\"display:none;\">\n",
              "\n",
              "  <svg xmlns=\"http://www.w3.org/2000/svg\" height=\"24px\" viewBox=\"0 -960 960 960\">\n",
              "    <path d=\"M120-120v-720h720v720H120Zm60-500h600v-160H180v160Zm220 220h160v-160H400v160Zm0 220h160v-160H400v160ZM180-400h160v-160H180v160Zm440 0h160v-160H620v160ZM180-180h160v-160H180v160Zm440 0h160v-160H620v160Z\"/>\n",
              "  </svg>\n",
              "    </button>\n",
              "\n",
              "  <style>\n",
              "    .colab-df-container {\n",
              "      display:flex;\n",
              "      gap: 12px;\n",
              "    }\n",
              "\n",
              "    .colab-df-convert {\n",
              "      background-color: #E8F0FE;\n",
              "      border: none;\n",
              "      border-radius: 50%;\n",
              "      cursor: pointer;\n",
              "      display: none;\n",
              "      fill: #1967D2;\n",
              "      height: 32px;\n",
              "      padding: 0 0 0 0;\n",
              "      width: 32px;\n",
              "    }\n",
              "\n",
              "    .colab-df-convert:hover {\n",
              "      background-color: #E2EBFA;\n",
              "      box-shadow: 0px 1px 2px rgba(60, 64, 67, 0.3), 0px 1px 3px 1px rgba(60, 64, 67, 0.15);\n",
              "      fill: #174EA6;\n",
              "    }\n",
              "\n",
              "    .colab-df-buttons div {\n",
              "      margin-bottom: 4px;\n",
              "    }\n",
              "\n",
              "    [theme=dark] .colab-df-convert {\n",
              "      background-color: #3B4455;\n",
              "      fill: #D2E3FC;\n",
              "    }\n",
              "\n",
              "    [theme=dark] .colab-df-convert:hover {\n",
              "      background-color: #434B5C;\n",
              "      box-shadow: 0px 1px 3px 1px rgba(0, 0, 0, 0.15);\n",
              "      filter: drop-shadow(0px 1px 2px rgba(0, 0, 0, 0.3));\n",
              "      fill: #FFFFFF;\n",
              "    }\n",
              "  </style>\n",
              "\n",
              "    <script>\n",
              "      const buttonEl =\n",
              "        document.querySelector('#df-75187640-7c91-480f-8cd5-3bff7912d10e button.colab-df-convert');\n",
              "      buttonEl.style.display =\n",
              "        google.colab.kernel.accessAllowed ? 'block' : 'none';\n",
              "\n",
              "      async function convertToInteractive(key) {\n",
              "        const element = document.querySelector('#df-75187640-7c91-480f-8cd5-3bff7912d10e');\n",
              "        const dataTable =\n",
              "          await google.colab.kernel.invokeFunction('convertToInteractive',\n",
              "                                                    [key], {});\n",
              "        if (!dataTable) return;\n",
              "\n",
              "        const docLinkHtml = 'Like what you see? Visit the ' +\n",
              "          '<a target=\"_blank\" href=https://colab.research.google.com/notebooks/data_table.ipynb>data table notebook</a>'\n",
              "          + ' to learn more about interactive tables.';\n",
              "        element.innerHTML = '';\n",
              "        dataTable['output_type'] = 'display_data';\n",
              "        await google.colab.output.renderOutput(dataTable, element);\n",
              "        const docLink = document.createElement('div');\n",
              "        docLink.innerHTML = docLinkHtml;\n",
              "        element.appendChild(docLink);\n",
              "      }\n",
              "    </script>\n",
              "  </div>\n",
              "\n",
              "\n",
              "<div id=\"df-89af9d0d-3ea1-475a-bd24-6762d42e3a30\">\n",
              "  <button class=\"colab-df-quickchart\" onclick=\"quickchart('df-89af9d0d-3ea1-475a-bd24-6762d42e3a30')\"\n",
              "            title=\"Suggest charts\"\n",
              "            style=\"display:none;\">\n",
              "\n",
              "<svg xmlns=\"http://www.w3.org/2000/svg\" height=\"24px\"viewBox=\"0 0 24 24\"\n",
              "     width=\"24px\">\n",
              "    <g>\n",
              "        <path d=\"M19 3H5c-1.1 0-2 .9-2 2v14c0 1.1.9 2 2 2h14c1.1 0 2-.9 2-2V5c0-1.1-.9-2-2-2zM9 17H7v-7h2v7zm4 0h-2V7h2v10zm4 0h-2v-4h2v4z\"/>\n",
              "    </g>\n",
              "</svg>\n",
              "  </button>\n",
              "\n",
              "<style>\n",
              "  .colab-df-quickchart {\n",
              "      --bg-color: #E8F0FE;\n",
              "      --fill-color: #1967D2;\n",
              "      --hover-bg-color: #E2EBFA;\n",
              "      --hover-fill-color: #174EA6;\n",
              "      --disabled-fill-color: #AAA;\n",
              "      --disabled-bg-color: #DDD;\n",
              "  }\n",
              "\n",
              "  [theme=dark] .colab-df-quickchart {\n",
              "      --bg-color: #3B4455;\n",
              "      --fill-color: #D2E3FC;\n",
              "      --hover-bg-color: #434B5C;\n",
              "      --hover-fill-color: #FFFFFF;\n",
              "      --disabled-bg-color: #3B4455;\n",
              "      --disabled-fill-color: #666;\n",
              "  }\n",
              "\n",
              "  .colab-df-quickchart {\n",
              "    background-color: var(--bg-color);\n",
              "    border: none;\n",
              "    border-radius: 50%;\n",
              "    cursor: pointer;\n",
              "    display: none;\n",
              "    fill: var(--fill-color);\n",
              "    height: 32px;\n",
              "    padding: 0;\n",
              "    width: 32px;\n",
              "  }\n",
              "\n",
              "  .colab-df-quickchart:hover {\n",
              "    background-color: var(--hover-bg-color);\n",
              "    box-shadow: 0 1px 2px rgba(60, 64, 67, 0.3), 0 1px 3px 1px rgba(60, 64, 67, 0.15);\n",
              "    fill: var(--button-hover-fill-color);\n",
              "  }\n",
              "\n",
              "  .colab-df-quickchart-complete:disabled,\n",
              "  .colab-df-quickchart-complete:disabled:hover {\n",
              "    background-color: var(--disabled-bg-color);\n",
              "    fill: var(--disabled-fill-color);\n",
              "    box-shadow: none;\n",
              "  }\n",
              "\n",
              "  .colab-df-spinner {\n",
              "    border: 2px solid var(--fill-color);\n",
              "    border-color: transparent;\n",
              "    border-bottom-color: var(--fill-color);\n",
              "    animation:\n",
              "      spin 1s steps(1) infinite;\n",
              "  }\n",
              "\n",
              "  @keyframes spin {\n",
              "    0% {\n",
              "      border-color: transparent;\n",
              "      border-bottom-color: var(--fill-color);\n",
              "      border-left-color: var(--fill-color);\n",
              "    }\n",
              "    20% {\n",
              "      border-color: transparent;\n",
              "      border-left-color: var(--fill-color);\n",
              "      border-top-color: var(--fill-color);\n",
              "    }\n",
              "    30% {\n",
              "      border-color: transparent;\n",
              "      border-left-color: var(--fill-color);\n",
              "      border-top-color: var(--fill-color);\n",
              "      border-right-color: var(--fill-color);\n",
              "    }\n",
              "    40% {\n",
              "      border-color: transparent;\n",
              "      border-right-color: var(--fill-color);\n",
              "      border-top-color: var(--fill-color);\n",
              "    }\n",
              "    60% {\n",
              "      border-color: transparent;\n",
              "      border-right-color: var(--fill-color);\n",
              "    }\n",
              "    80% {\n",
              "      border-color: transparent;\n",
              "      border-right-color: var(--fill-color);\n",
              "      border-bottom-color: var(--fill-color);\n",
              "    }\n",
              "    90% {\n",
              "      border-color: transparent;\n",
              "      border-bottom-color: var(--fill-color);\n",
              "    }\n",
              "  }\n",
              "</style>\n",
              "\n",
              "  <script>\n",
              "    async function quickchart(key) {\n",
              "      const quickchartButtonEl =\n",
              "        document.querySelector('#' + key + ' button');\n",
              "      quickchartButtonEl.disabled = true;  // To prevent multiple clicks.\n",
              "      quickchartButtonEl.classList.add('colab-df-spinner');\n",
              "      try {\n",
              "        const charts = await google.colab.kernel.invokeFunction(\n",
              "            'suggestCharts', [key], {});\n",
              "      } catch (error) {\n",
              "        console.error('Error during call to suggestCharts:', error);\n",
              "      }\n",
              "      quickchartButtonEl.classList.remove('colab-df-spinner');\n",
              "      quickchartButtonEl.classList.add('colab-df-quickchart-complete');\n",
              "    }\n",
              "    (() => {\n",
              "      let quickchartButtonEl =\n",
              "        document.querySelector('#df-89af9d0d-3ea1-475a-bd24-6762d42e3a30 button');\n",
              "      quickchartButtonEl.style.display =\n",
              "        google.colab.kernel.accessAllowed ? 'block' : 'none';\n",
              "    })();\n",
              "  </script>\n",
              "</div>\n",
              "\n",
              "    </div>\n",
              "  </div>\n"
            ],
            "application/vnd.google.colaboratory.intrinsic+json": {
              "type": "dataframe",
              "variable_name": "df1"
            }
          },
          "metadata": {},
          "execution_count": 39
        }
      ]
    },
    {
      "cell_type": "code",
      "source": [
        "df1.info()\n"
      ],
      "metadata": {
        "colab": {
          "base_uri": "https://localhost:8080/"
        },
        "id": "hRaJEX7z8tSO",
        "outputId": "661bb604-b881-4b1c-92dc-800439f23544"
      },
      "execution_count": null,
      "outputs": [
        {
          "output_type": "stream",
          "name": "stdout",
          "text": [
            "<class 'pandas.core.frame.DataFrame'>\n",
            "RangeIndex: 1583632 entries, 0 to 1583631\n",
            "Data columns (total 13 columns):\n",
            " #   Column                  Non-Null Count    Dtype \n",
            "---  ------                  --------------    ----- \n",
            " 0   appearance_id           1583632 non-null  object\n",
            " 1   game_id                 1583632 non-null  int64 \n",
            " 2   player_id               1583632 non-null  int64 \n",
            " 3   player_club_id          1583632 non-null  int64 \n",
            " 4   player_current_club_id  1583632 non-null  int64 \n",
            " 5   date                    1583632 non-null  object\n",
            " 6   player_name             1583626 non-null  object\n",
            " 7   competition_id          1583632 non-null  object\n",
            " 8   yellow_cards            1583632 non-null  int64 \n",
            " 9   red_cards               1583632 non-null  int64 \n",
            " 10  goals                   1583632 non-null  int64 \n",
            " 11  assists                 1583632 non-null  int64 \n",
            " 12  minutes_played          1583632 non-null  int64 \n",
            "dtypes: int64(9), object(4)\n",
            "memory usage: 157.1+ MB\n"
          ]
        }
      ]
    },
    {
      "cell_type": "code",
      "source": [
        "df1.isnull().sum()"
      ],
      "metadata": {
        "colab": {
          "base_uri": "https://localhost:8080/"
        },
        "id": "5pvqU_Qw84WB",
        "outputId": "dfb6ae78-1f16-40b5-bd64-72bf00d0ec04"
      },
      "execution_count": null,
      "outputs": [
        {
          "output_type": "execute_result",
          "data": {
            "text/plain": [
              "appearance_id             0\n",
              "game_id                   0\n",
              "player_id                 0\n",
              "player_club_id            0\n",
              "player_current_club_id    0\n",
              "date                      0\n",
              "player_name               6\n",
              "competition_id            0\n",
              "yellow_cards              0\n",
              "red_cards                 0\n",
              "goals                     0\n",
              "assists                   0\n",
              "minutes_played            0\n",
              "dtype: int64"
            ]
          },
          "metadata": {},
          "execution_count": 41
        }
      ]
    },
    {
      "cell_type": "code",
      "source": [
        "\n",
        "unique_players_by_id = df['player_id'].nunique()\n",
        "print(f\"Number of unique players (by ID): {unique_players_by_id}\")\n"
      ],
      "metadata": {
        "colab": {
          "base_uri": "https://localhost:8080/"
        },
        "id": "RvBrqi6G9CMH",
        "outputId": "c1652b48-cbe5-4084-b9f0-96fbeffbf61a"
      },
      "execution_count": null,
      "outputs": [
        {
          "output_type": "stream",
          "name": "stdout",
          "text": [
            "Number of unique players (by ID): 15629\n"
          ]
        }
      ]
    },
    {
      "cell_type": "markdown",
      "source": [
        "Calculating the goals,assists,and other necessary details needed for the visualisation and storing it into a new dataset"
      ],
      "metadata": {
        "id": "xDuZWGxrFmiv"
      }
    },
    {
      "cell_type": "code",
      "source": [
        "goals_by_player = df1.groupby('player_id')['goals'].sum().reset_index()"
      ],
      "metadata": {
        "id": "2R1I2guC9ksw"
      },
      "execution_count": null,
      "outputs": []
    },
    {
      "cell_type": "code",
      "source": [
        "player_info = df[['player_id', 'name']]"
      ],
      "metadata": {
        "id": "780NL7b3-uuU"
      },
      "execution_count": null,
      "outputs": []
    },
    {
      "cell_type": "code",
      "source": [
        "df_players_goals = pd.merge(player_info, goals_by_player, on='player_id', how='left')"
      ],
      "metadata": {
        "id": "MWwiMvaJ_Zqj"
      },
      "execution_count": null,
      "outputs": []
    },
    {
      "cell_type": "code",
      "source": [
        "df_players_goals['goals'].fillna(0, inplace=True)"
      ],
      "metadata": {
        "id": "MkH1lnK3_j7W"
      },
      "execution_count": null,
      "outputs": []
    },
    {
      "cell_type": "code",
      "source": [
        "df_players_goals.to_csv('players_goals.csv', index=False)"
      ],
      "metadata": {
        "id": "5b4nS2Y__nlC"
      },
      "execution_count": null,
      "outputs": []
    },
    {
      "cell_type": "code",
      "source": [
        "print(df_players_goals.head())"
      ],
      "metadata": {
        "colab": {
          "base_uri": "https://localhost:8080/"
        },
        "id": "AGfo273I_tNd",
        "outputId": "b4d86f53-7f23-4d63-bbed-76b3076e3c45"
      },
      "execution_count": null,
      "outputs": [
        {
          "output_type": "stream",
          "name": "stdout",
          "text": [
            "   player_id                name  goals\n",
            "0         10      Miroslav Klose   16.0\n",
            "1         26  Roman Weidenfeller    0.0\n",
            "2         65    Dimitar Berbatov   15.0\n",
            "3         77               Lúcio    0.0\n",
            "4         80          Tom Starke    0.0\n"
          ]
        }
      ]
    },
    {
      "cell_type": "code",
      "source": [
        "df_players_goals = df_players_goals.sort_values(by='goals', ascending=False)"
      ],
      "metadata": {
        "id": "hfKGGrxb_zDP"
      },
      "execution_count": null,
      "outputs": []
    },
    {
      "cell_type": "code",
      "source": [
        "print(df_players_goals.head())"
      ],
      "metadata": {
        "colab": {
          "base_uri": "https://localhost:8080/"
        },
        "id": "CWcxLCASAPwa",
        "outputId": "e00a8e51-1e07-4076-ed44-0601f08c261d"
      },
      "execution_count": null,
      "outputs": [
        {
          "output_type": "stream",
          "name": "stdout",
          "text": [
            "      player_id                name  goals\n",
            "2347      28003        Lionel Messi   60.0\n",
            "758        8198   Cristiano Ronaldo   55.0\n",
            "6766      81808       Wilfried Bony   39.0\n",
            "4170      48280      Edinson Cavani   38.0\n",
            "3253      38253  Robert Lewandowski   37.0\n"
          ]
        }
      ]
    },
    {
      "cell_type": "code",
      "source": [
        "assists_by_player = df1.groupby('player_id')['assists'].sum().reset_index()\n"
      ],
      "metadata": {
        "id": "2aVL8HvYAUqr"
      },
      "execution_count": null,
      "outputs": []
    },
    {
      "cell_type": "code",
      "source": [
        "df_players_stats = pd.merge(df_players_goals, assists_by_player, on='player_id', how='left')\n"
      ],
      "metadata": {
        "id": "CfY7Xd68BJQa"
      },
      "execution_count": null,
      "outputs": []
    },
    {
      "cell_type": "code",
      "source": [
        "df_players_stats = pd.merge(df_players_goals, assists_by_player, on='player_id', how='left')\n"
      ],
      "metadata": {
        "id": "s_9o8T7sBXGi"
      },
      "execution_count": null,
      "outputs": []
    },
    {
      "cell_type": "code",
      "source": [
        "df_players_stats['assists'].fillna(0, inplace=True)\n"
      ],
      "metadata": {
        "id": "R1G1gZ64BXwk"
      },
      "execution_count": null,
      "outputs": []
    },
    {
      "cell_type": "code",
      "source": [
        "df_players_stats.to_csv('player_stats.csv', index=False)\n"
      ],
      "metadata": {
        "id": "B31sHanOBZG9"
      },
      "execution_count": null,
      "outputs": []
    },
    {
      "cell_type": "code",
      "source": [
        "print(df_players_stats.head())"
      ],
      "metadata": {
        "colab": {
          "base_uri": "https://localhost:8080/"
        },
        "id": "Ht4bth9CBah7",
        "outputId": "2daa455c-5ecb-4081-e8ad-c816dedb1f2e"
      },
      "execution_count": null,
      "outputs": [
        {
          "output_type": "stream",
          "name": "stdout",
          "text": [
            "   player_id                name  goals  assists\n",
            "0       8198   Cristiano Ronaldo   73.0     18.0\n",
            "1      28003        Lionel Messi   72.0     21.0\n",
            "2      38253  Robert Lewandowski   49.0     19.0\n",
            "3      48280      Edinson Cavani   49.0      4.0\n",
            "4       3455  Zlatan Ibrahimović   44.0     22.0\n"
          ]
        }
      ]
    },
    {
      "cell_type": "code",
      "source": [
        "num_games_by_player = df1['player_id'].value_counts().reset_index()\n",
        "num_games_by_player.columns = ['player_id', 'num_games']\n"
      ],
      "metadata": {
        "id": "6gRPGznGBesF"
      },
      "execution_count": null,
      "outputs": []
    },
    {
      "cell_type": "code",
      "source": [
        "df_players_stats = pd.merge(df_players_goals, num_games_by_player, on='player_id', how='left')\n"
      ],
      "metadata": {
        "id": "UqqfPI0jBrcn"
      },
      "execution_count": null,
      "outputs": []
    },
    {
      "cell_type": "code",
      "source": [
        "df_players_stats['num_games'].fillna(0, inplace=True)\n"
      ],
      "metadata": {
        "id": "uhSmmiI-BvA0"
      },
      "execution_count": null,
      "outputs": []
    },
    {
      "cell_type": "code",
      "source": [
        "df_players_stats.to_csv('player_stats.csv', index=False)"
      ],
      "metadata": {
        "id": "zyiWil65Bw0K"
      },
      "execution_count": null,
      "outputs": []
    },
    {
      "cell_type": "code",
      "source": [
        "print(df_players_stats.head())"
      ],
      "metadata": {
        "colab": {
          "base_uri": "https://localhost:8080/"
        },
        "id": "2fVdjyfSCE7c",
        "outputId": "48b67c87-c335-4c0a-f999-f0a0f291c1f4"
      },
      "execution_count": null,
      "outputs": [
        {
          "output_type": "stream",
          "name": "stdout",
          "text": [
            "   player_id                       name  goals  num_games\n",
            "0      38253         Robert Lewandowski  467.0      567.0\n",
            "1      28003               Lionel Messi  451.0      522.0\n",
            "2       8198          Cristiano Ronaldo  432.0      482.0\n",
            "3     132098                 Harry Kane  312.0      454.0\n",
            "4      58864  Pierre-Emerick Aubameyang  294.0      503.0\n"
          ]
        }
      ]
    },
    {
      "cell_type": "markdown",
      "source": [
        "mm"
      ],
      "metadata": {
        "id": "xXs7OyuBD4Dr"
      }
    },
    {
      "cell_type": "code",
      "source": [
        "df_appearances_agg = df1.groupby('player_id').agg({\n",
        "    'yellow_cards': 'sum',\n",
        "    'red_cards': 'sum',\n",
        "    'minutes_played': 'sum'\n",
        "}).reset_index()"
      ],
      "metadata": {
        "id": "cKdfInUSCIxf"
      },
      "execution_count": null,
      "outputs": []
    },
    {
      "cell_type": "code",
      "source": [
        "df_players_stats = pd.merge(df_players_stats, df_appearances_agg, on='player_id', how='left')\n"
      ],
      "metadata": {
        "id": "fn-8RrPZD6fP"
      },
      "execution_count": null,
      "outputs": []
    },
    {
      "cell_type": "code",
      "source": [
        "df_players_stats['yellow_cards'].fillna(0, inplace=True)\n",
        "df_players_stats['red_cards'].fillna(0, inplace=True)\n",
        "df_players_stats['minutes_played'].fillna(0, inplace=True)"
      ],
      "metadata": {
        "id": "PNMm3yqTD-kC"
      },
      "execution_count": null,
      "outputs": []
    },
    {
      "cell_type": "code",
      "source": [
        "print(df_players_stats.head())"
      ],
      "metadata": {
        "colab": {
          "base_uri": "https://localhost:8080/"
        },
        "id": "D-ffu1L2EAkf",
        "outputId": "f7b05a5b-36de-480f-da57-6eadf6ed259c"
      },
      "execution_count": null,
      "outputs": [
        {
          "output_type": "stream",
          "name": "stdout",
          "text": [
            "   player_id                       name  goals  num_games  yellow_cards  \\\n",
            "0      38253         Robert Lewandowski  467.0      567.0          56.0   \n",
            "1      28003               Lionel Messi  451.0      522.0          49.0   \n",
            "2       8198          Cristiano Ronaldo  432.0      482.0          64.0   \n",
            "3     132098                 Harry Kane  312.0      454.0          47.0   \n",
            "4      58864  Pierre-Emerick Aubameyang  294.0      503.0          36.0   \n",
            "\n",
            "   red_cards  minutes_played  \n",
            "0        1.0         47788.0  \n",
            "1        1.0         44380.0  \n",
            "2        4.0         41150.0  \n",
            "3        0.0         36869.0  \n",
            "4        1.0         38613.0  \n"
          ]
        }
      ]
    },
    {
      "cell_type": "code",
      "source": [
        "df_players_stats.info()"
      ],
      "metadata": {
        "colab": {
          "base_uri": "https://localhost:8080/"
        },
        "id": "_eQzMqYLEGCf",
        "outputId": "abdaf9ce-e6c2-4980-f195-ab4fe4d223a6"
      },
      "execution_count": null,
      "outputs": [
        {
          "output_type": "stream",
          "name": "stdout",
          "text": [
            "<class 'pandas.core.frame.DataFrame'>\n",
            "RangeIndex: 30518 entries, 0 to 30517\n",
            "Data columns (total 7 columns):\n",
            " #   Column          Non-Null Count  Dtype  \n",
            "---  ------          --------------  -----  \n",
            " 0   player_id       30518 non-null  int64  \n",
            " 1   name            30518 non-null  object \n",
            " 2   goals           30518 non-null  float64\n",
            " 3   num_games       30518 non-null  float64\n",
            " 4   yellow_cards    30518 non-null  float64\n",
            " 5   red_cards       30518 non-null  float64\n",
            " 6   minutes_played  30518 non-null  float64\n",
            "dtypes: float64(5), int64(1), object(1)\n",
            "memory usage: 1.6+ MB\n"
          ]
        }
      ]
    },
    {
      "cell_type": "code",
      "source": [
        "df_players_stats = pd.merge(df_players_stats, df[['player_id', 'country_of_citizenship']], on='player_id', how='left')"
      ],
      "metadata": {
        "id": "tVnXotukESFk"
      },
      "execution_count": null,
      "outputs": []
    },
    {
      "cell_type": "code",
      "source": [
        "df_players_stats.info()"
      ],
      "metadata": {
        "colab": {
          "base_uri": "https://localhost:8080/"
        },
        "id": "8zDDaoKOGIVA",
        "outputId": "11d33b1b-8c3b-4bb7-fbf9-27a162eb0061"
      },
      "execution_count": null,
      "outputs": [
        {
          "output_type": "stream",
          "name": "stdout",
          "text": [
            "<class 'pandas.core.frame.DataFrame'>\n",
            "RangeIndex: 30518 entries, 0 to 30517\n",
            "Data columns (total 8 columns):\n",
            " #   Column                  Non-Null Count  Dtype  \n",
            "---  ------                  --------------  -----  \n",
            " 0   player_id               30518 non-null  int64  \n",
            " 1   name                    30518 non-null  object \n",
            " 2   goals                   30518 non-null  float64\n",
            " 3   num_games               30518 non-null  float64\n",
            " 4   yellow_cards            30518 non-null  float64\n",
            " 5   red_cards               30518 non-null  float64\n",
            " 6   minutes_played          30518 non-null  float64\n",
            " 7   country_of_citizenship  29949 non-null  object \n",
            "dtypes: float64(5), int64(1), object(2)\n",
            "memory usage: 1.9+ MB\n"
          ]
        }
      ]
    },
    {
      "cell_type": "code",
      "source": [
        "print(df_players_stats.head())"
      ],
      "metadata": {
        "colab": {
          "base_uri": "https://localhost:8080/"
        },
        "id": "LF87U2tzGLa7",
        "outputId": "c09782cd-7d6d-4ea8-b569-8ba968da4d3e"
      },
      "execution_count": null,
      "outputs": [
        {
          "output_type": "stream",
          "name": "stdout",
          "text": [
            "   player_id                       name  goals  num_games  yellow_cards  \\\n",
            "0      38253         Robert Lewandowski  467.0      567.0          56.0   \n",
            "1      28003               Lionel Messi  451.0      522.0          49.0   \n",
            "2       8198          Cristiano Ronaldo  432.0      482.0          64.0   \n",
            "3     132098                 Harry Kane  312.0      454.0          47.0   \n",
            "4      58864  Pierre-Emerick Aubameyang  294.0      503.0          36.0   \n",
            "\n",
            "   red_cards  minutes_played country_of_citizenship  \n",
            "0        1.0         47788.0                 Poland  \n",
            "1        1.0         44380.0              Argentina  \n",
            "2        4.0         41150.0               Portugal  \n",
            "3        0.0         36869.0                England  \n",
            "4        1.0         38613.0                  Gabon  \n"
          ]
        }
      ]
    },
    {
      "cell_type": "code",
      "source": [
        "df_players_stats = pd.merge(df_players_stats, df[['player_id', 'position', 'foot', 'height_in_cm', 'current_club_name', 'market_value_in_eur', 'highest_market_value_in_eur', 'url']], on='player_id', how='left')\n"
      ],
      "metadata": {
        "id": "A6FlpRFuGOcv"
      },
      "execution_count": null,
      "outputs": []
    },
    {
      "cell_type": "code",
      "source": [
        "df_players_stats['position'].fillna('Unknown', inplace=True)\n",
        "df_players_stats['foot'].fillna('Unknown', inplace=True)\n",
        "df_players_stats['height_in_cm'].fillna(df_players_stats['height_in_cm'].median(), inplace=True)\n",
        "df_players_stats['current_club_name'].fillna('Unknown', inplace=True)\n",
        "df_players_stats['market_value_in_eur'].fillna(0, inplace=True)\n",
        "df_players_stats['highest_market_value_in_eur'].fillna(0, inplace=True)\n",
        "df_players_stats['url'].fillna('', inplace=True)"
      ],
      "metadata": {
        "id": "2QTM1dmUIDKY"
      },
      "execution_count": null,
      "outputs": []
    },
    {
      "cell_type": "code",
      "source": [
        "print(df_players_stats.head())"
      ],
      "metadata": {
        "colab": {
          "base_uri": "https://localhost:8080/"
        },
        "id": "njftSsJXIJEn",
        "outputId": "8f693784-e3ef-4583-8465-618adc832e01"
      },
      "execution_count": null,
      "outputs": [
        {
          "output_type": "stream",
          "name": "stdout",
          "text": [
            "   player_id                       name  goals  num_games  yellow_cards  \\\n",
            "0      38253         Robert Lewandowski  467.0      567.0          56.0   \n",
            "1      28003               Lionel Messi  451.0      522.0          49.0   \n",
            "2       8198          Cristiano Ronaldo  432.0      482.0          64.0   \n",
            "3     132098                 Harry Kane  312.0      454.0          47.0   \n",
            "4      58864  Pierre-Emerick Aubameyang  294.0      503.0          36.0   \n",
            "\n",
            "   red_cards  minutes_played country_of_citizenship position   foot  \\\n",
            "0        1.0         47788.0                 Poland   Attack  right   \n",
            "1        1.0         44380.0              Argentina   Attack   left   \n",
            "2        4.0         41150.0               Portugal   Attack  right   \n",
            "3        0.0         36869.0                England   Attack  right   \n",
            "4        1.0         38613.0                  Gabon   Attack  right   \n",
            "\n",
            "   height_in_cm                  current_club_name  market_value_in_eur  \\\n",
            "0         185.0              Futbol Club Barcelona           15000000.0   \n",
            "1         170.0  Paris Saint-Germain Football Club           35000000.0   \n",
            "2         187.0    Manchester United Football Club           15000000.0   \n",
            "3         188.0                  FC Bayern München          100000000.0   \n",
            "4         187.0             Olympique de Marseille            5000000.0   \n",
            "\n",
            "   highest_market_value_in_eur  \\\n",
            "0                   90000000.0   \n",
            "1                  180000000.0   \n",
            "2                  120000000.0   \n",
            "3                  150000000.0   \n",
            "4                   75000000.0   \n",
            "\n",
            "                                                 url  \n",
            "0  https://www.transfermarkt.co.uk/robert-lewando...  \n",
            "1  https://www.transfermarkt.co.uk/lionel-messi/p...  \n",
            "2  https://www.transfermarkt.co.uk/cristiano-rona...  \n",
            "3  https://www.transfermarkt.co.uk/harry-kane/pro...  \n",
            "4  https://www.transfermarkt.co.uk/pierre-emerick...  \n"
          ]
        }
      ]
    },
    {
      "cell_type": "code",
      "source": [
        "df_players_stats.info()"
      ],
      "metadata": {
        "colab": {
          "base_uri": "https://localhost:8080/"
        },
        "id": "aE7Nym60I1h3",
        "outputId": "13b5cd6d-4a43-41e8-d74e-ef5099774973"
      },
      "execution_count": null,
      "outputs": [
        {
          "output_type": "stream",
          "name": "stdout",
          "text": [
            "<class 'pandas.core.frame.DataFrame'>\n",
            "RangeIndex: 30518 entries, 0 to 30517\n",
            "Data columns (total 15 columns):\n",
            " #   Column                       Non-Null Count  Dtype  \n",
            "---  ------                       --------------  -----  \n",
            " 0   player_id                    30518 non-null  int64  \n",
            " 1   name                         30518 non-null  object \n",
            " 2   goals                        30518 non-null  float64\n",
            " 3   num_games                    30518 non-null  float64\n",
            " 4   yellow_cards                 30518 non-null  float64\n",
            " 5   red_cards                    30518 non-null  float64\n",
            " 6   minutes_played               30518 non-null  float64\n",
            " 7   country_of_citizenship       29949 non-null  object \n",
            " 8   position                     30518 non-null  object \n",
            " 9   foot                         30518 non-null  object \n",
            " 10  height_in_cm                 30518 non-null  float64\n",
            " 11  current_club_name            30518 non-null  object \n",
            " 12  market_value_in_eur          30518 non-null  float64\n",
            " 13  highest_market_value_in_eur  30518 non-null  float64\n",
            " 14  url                          30518 non-null  object \n",
            "dtypes: float64(8), int64(1), object(6)\n",
            "memory usage: 3.5+ MB\n"
          ]
        }
      ]
    },
    {
      "cell_type": "code",
      "source": [
        "df_players_stats['goals_per_game'] = (df_players_stats['goals'] / df_players_stats['minutes_played']) * 90\n"
      ],
      "metadata": {
        "id": "lzqlE0wbJhYz"
      },
      "execution_count": null,
      "outputs": []
    },
    {
      "cell_type": "code",
      "source": [
        "print(df_players_stats.head())\n"
      ],
      "metadata": {
        "colab": {
          "base_uri": "https://localhost:8080/"
        },
        "id": "ZecB2oTiKqgH",
        "outputId": "484060e1-013c-454e-ce3d-3cd3f5676d6c"
      },
      "execution_count": null,
      "outputs": [
        {
          "output_type": "stream",
          "name": "stdout",
          "text": [
            "   player_id                       name  goals  num_games  yellow_cards  \\\n",
            "0      38253         Robert Lewandowski  467.0      567.0          56.0   \n",
            "1      28003               Lionel Messi  451.0      522.0          49.0   \n",
            "2       8198          Cristiano Ronaldo  432.0      482.0          64.0   \n",
            "3     132098                 Harry Kane  312.0      454.0          47.0   \n",
            "4      58864  Pierre-Emerick Aubameyang  294.0      503.0          36.0   \n",
            "\n",
            "   red_cards  minutes_played country_of_citizenship position   foot  \\\n",
            "0        1.0         47788.0                 Poland   Attack  right   \n",
            "1        1.0         44380.0              Argentina   Attack   left   \n",
            "2        4.0         41150.0               Portugal   Attack  right   \n",
            "3        0.0         36869.0                England   Attack  right   \n",
            "4        1.0         38613.0                  Gabon   Attack  right   \n",
            "\n",
            "   height_in_cm                  current_club_name  market_value_in_eur  \\\n",
            "0         185.0              Futbol Club Barcelona           15000000.0   \n",
            "1         170.0  Paris Saint-Germain Football Club           35000000.0   \n",
            "2         187.0    Manchester United Football Club           15000000.0   \n",
            "3         188.0                  FC Bayern München          100000000.0   \n",
            "4         187.0             Olympique de Marseille            5000000.0   \n",
            "\n",
            "   highest_market_value_in_eur  \\\n",
            "0                   90000000.0   \n",
            "1                  180000000.0   \n",
            "2                  120000000.0   \n",
            "3                  150000000.0   \n",
            "4                   75000000.0   \n",
            "\n",
            "                                                 url  goals_per_game  \n",
            "0  https://www.transfermarkt.co.uk/robert-lewando...        0.879510  \n",
            "1  https://www.transfermarkt.co.uk/lionel-messi/p...        0.914601  \n",
            "2  https://www.transfermarkt.co.uk/cristiano-rona...        0.944836  \n",
            "3  https://www.transfermarkt.co.uk/harry-kane/pro...        0.761615  \n",
            "4  https://www.transfermarkt.co.uk/pierre-emerick...        0.685261  \n"
          ]
        }
      ]
    },
    {
      "cell_type": "markdown",
      "source": [
        "Here 'df2' has the details of the market value updates of each player with respect to the dates"
      ],
      "metadata": {
        "id": "NBBXm8pmF8lu"
      }
    },
    {
      "cell_type": "code",
      "source": [
        "df2 = pd.read_csv('/content/player_valuations.csv')"
      ],
      "metadata": {
        "id": "aKF31bACKwPi"
      },
      "execution_count": null,
      "outputs": []
    },
    {
      "cell_type": "code",
      "source": [
        "df2.info()"
      ],
      "metadata": {
        "colab": {
          "base_uri": "https://localhost:8080/"
        },
        "id": "G6MahlgBN_U-",
        "outputId": "bcb75454-edd1-43e3-d012-4a45d6a31d7b"
      },
      "execution_count": null,
      "outputs": [
        {
          "output_type": "stream",
          "name": "stdout",
          "text": [
            "<class 'pandas.core.frame.DataFrame'>\n",
            "RangeIndex: 473675 entries, 0 to 473674\n",
            "Data columns (total 5 columns):\n",
            " #   Column                               Non-Null Count   Dtype \n",
            "---  ------                               --------------   ----- \n",
            " 0   player_id                            473675 non-null  int64 \n",
            " 1   date                                 473675 non-null  object\n",
            " 2   market_value_in_eur                  473675 non-null  int64 \n",
            " 3   current_club_id                      473675 non-null  int64 \n",
            " 4   player_club_domestic_competition_id  473675 non-null  object\n",
            "dtypes: int64(3), object(2)\n",
            "memory usage: 18.1+ MB\n"
          ]
        }
      ]
    },
    {
      "cell_type": "code",
      "source": [
        "unique_players = df2['player_id'].nunique()"
      ],
      "metadata": {
        "id": "rhNbc_ViOEas"
      },
      "execution_count": null,
      "outputs": []
    },
    {
      "cell_type": "code",
      "source": [
        "print(\"Number of unique players:\", unique_players)"
      ],
      "metadata": {
        "colab": {
          "base_uri": "https://localhost:8080/"
        },
        "id": "BbeV1iqJOc9u",
        "outputId": "3e5420d6-33e1-487c-ec5e-c3e1740114c5"
      },
      "execution_count": null,
      "outputs": [
        {
          "output_type": "stream",
          "name": "stdout",
          "text": [
            "Number of unique players: 29420\n"
          ]
        }
      ]
    },
    {
      "cell_type": "markdown",
      "source": [
        "Let u scheck the trend of a single player"
      ],
      "metadata": {
        "id": "Bg-rxyApPDWf"
      }
    },
    {
      "cell_type": "code",
      "source": [
        "player_data = df2[df2['player_id'] == 28003]\n"
      ],
      "metadata": {
        "id": "6wu4D-icOhsD"
      },
      "execution_count": null,
      "outputs": []
    },
    {
      "cell_type": "code",
      "source": [
        "player_data_sorted = player_data.sort_values(by='date')"
      ],
      "metadata": {
        "id": "IpAmlHyxPUOB"
      },
      "execution_count": null,
      "outputs": []
    },
    {
      "cell_type": "code",
      "source": [
        "print(player_data_sorted)"
      ],
      "metadata": {
        "colab": {
          "base_uri": "https://localhost:8080/"
        },
        "id": "PWTooxUbPgol",
        "outputId": "300c5866-1b3f-4dbe-bd95-6de6a91fcce3"
      },
      "execution_count": null,
      "outputs": [
        {
          "output_type": "stream",
          "name": "stdout",
          "text": [
            "        player_id        date  market_value_in_eur  current_club_id  \\\n",
            "2248        28003  2004-12-20              3000000              583   \n",
            "4728        28003  2005-12-28              5000000              583   \n",
            "4959        28003  2006-01-20             15000000              583   \n",
            "9674        28003  2007-07-26             40000000              583   \n",
            "11042       28003  2007-09-12             60000000              583   \n",
            "14290       28003  2008-02-04             55000000              583   \n",
            "17825       28003  2008-07-10             55000000              583   \n",
            "23699       28003  2009-01-26             55000000              583   \n",
            "25587       28003  2009-04-28             60000000              583   \n",
            "28674       28003  2009-07-22             70000000              583   \n",
            "32800       28003  2009-12-03             70000000              583   \n",
            "34215       28003  2010-01-07             80000000              583   \n",
            "38305       28003  2010-04-12             80000000              583   \n",
            "43643       28003  2010-08-27            100000000              583   \n",
            "50933       28003  2011-02-04            100000000              583   \n",
            "59105       28003  2011-07-29            100000000              583   \n",
            "68810       28003  2012-02-03            100000000              583   \n",
            "79483       28003  2012-08-07            120000000              583   \n",
            "86279       28003  2013-01-10            120000000              583   \n",
            "94528       28003  2013-06-12            120000000              583   \n",
            "109342      28003  2014-01-23            120000000              583   \n",
            "119542      28003  2014-07-20            120000000              583   \n",
            "131816      28003  2015-01-23            120000000              583   \n",
            "145284      28003  2015-07-01            120000000              583   \n",
            "164718      28003  2016-02-22            120000000              583   \n",
            "174456      28003  2016-07-15            120000000              583   \n",
            "193183      28003  2017-01-24            120000000              583   \n",
            "202164      28003  2017-06-05            120000000              583   \n",
            "221724      28003  2018-01-01            180000000              583   \n",
            "234790      28003  2018-05-30            180000000              583   \n",
            "255513      28003  2018-12-21            160000000              583   \n",
            "272468      28003  2019-06-11            150000000              583   \n",
            "292465      28003  2019-12-20            140000000              583   \n",
            "303882      28003  2020-04-08            112000000              583   \n",
            "324957      28003  2020-10-08            100000000              583   \n",
            "338448      28003  2021-01-05             80000000              583   \n",
            "359192      28003  2021-06-10             80000000              583   \n",
            "375129      28003  2021-12-16             60000000              583   \n",
            "394566      28003  2022-05-30             50000000              583   \n",
            "415572      28003  2022-11-02             50000000              583   \n",
            "432385      28003  2023-03-27             45000000              583   \n",
            "448808      28003  2023-06-27             35000000              583   \n",
            "452695      28003  2023-08-22             35000000              583   \n",
            "\n",
            "       player_club_domestic_competition_id  \n",
            "2248                                   FR1  \n",
            "4728                                   FR1  \n",
            "4959                                   FR1  \n",
            "9674                                   FR1  \n",
            "11042                                  FR1  \n",
            "14290                                  FR1  \n",
            "17825                                  FR1  \n",
            "23699                                  FR1  \n",
            "25587                                  FR1  \n",
            "28674                                  FR1  \n",
            "32800                                  FR1  \n",
            "34215                                  FR1  \n",
            "38305                                  FR1  \n",
            "43643                                  FR1  \n",
            "50933                                  FR1  \n",
            "59105                                  FR1  \n",
            "68810                                  FR1  \n",
            "79483                                  FR1  \n",
            "86279                                  FR1  \n",
            "94528                                  FR1  \n",
            "109342                                 FR1  \n",
            "119542                                 FR1  \n",
            "131816                                 FR1  \n",
            "145284                                 FR1  \n",
            "164718                                 FR1  \n",
            "174456                                 FR1  \n",
            "193183                                 FR1  \n",
            "202164                                 FR1  \n",
            "221724                                 FR1  \n",
            "234790                                 FR1  \n",
            "255513                                 FR1  \n",
            "272468                                 FR1  \n",
            "292465                                 FR1  \n",
            "303882                                 FR1  \n",
            "324957                                 FR1  \n",
            "338448                                 FR1  \n",
            "359192                                 FR1  \n",
            "375129                                 FR1  \n",
            "394566                                 FR1  \n",
            "415572                                 FR1  \n",
            "432385                                 FR1  \n",
            "448808                                 FR1  \n",
            "452695                                 FR1  \n"
          ]
        }
      ]
    },
    {
      "cell_type": "markdown",
      "source": [
        "Creating an additional year column for the ease of further visualisation"
      ],
      "metadata": {
        "id": "ETJY8PkdGNpx"
      }
    },
    {
      "cell_type": "code",
      "source": [
        "df2['date'] = pd.to_datetime(df2['date'])\n"
      ],
      "metadata": {
        "id": "-eXx-50mPinp"
      },
      "execution_count": null,
      "outputs": []
    },
    {
      "cell_type": "code",
      "source": [
        "df2['year'] = df2['date'].dt.year"
      ],
      "metadata": {
        "id": "tjoh4qRePwf8"
      },
      "execution_count": null,
      "outputs": []
    },
    {
      "cell_type": "code",
      "source": [
        "df2['year'] = df2['date'].dt.year"
      ],
      "metadata": {
        "id": "q52FBroFQrIa"
      },
      "execution_count": null,
      "outputs": []
    },
    {
      "cell_type": "code",
      "source": [
        "print(df2.head())"
      ],
      "metadata": {
        "colab": {
          "base_uri": "https://localhost:8080/"
        },
        "id": "7qjzcKSoQtAX",
        "outputId": "b0a09cf5-319a-4aea-aae9-2967893d6937"
      },
      "execution_count": null,
      "outputs": [
        {
          "output_type": "stream",
          "name": "stdout",
          "text": [
            "   player_id       date  market_value_in_eur  current_club_id  \\\n",
            "0     405973 2000-01-20               150000             3057   \n",
            "1     342216 2001-07-20               100000             1241   \n",
            "2       3132 2003-12-09               400000              126   \n",
            "3       6893 2003-12-15               900000              984   \n",
            "4         10 2004-10-04              7000000              398   \n",
            "\n",
            "  player_club_domestic_competition_id  year  \n",
            "0                                 BE1  2000  \n",
            "1                                 SC1  2001  \n",
            "2                                 TR1  2003  \n",
            "3                                 GB1  2003  \n",
            "4                                 IT1  2004  \n"
          ]
        }
      ]
    },
    {
      "cell_type": "code",
      "source": [
        "player_data = df2[df2['player_id'] == 28003]"
      ],
      "metadata": {
        "id": "23fcHmyGRRrN"
      },
      "execution_count": null,
      "outputs": []
    },
    {
      "cell_type": "code",
      "source": [
        "plt.figure(figsize=(10, 6))\n",
        "plt.plot(player_data['year'], player_data['market_value_in_eur'], marker='o', linestyle='-', color='b')\n",
        "plt.title(f'Market Value of Player {28003} Over Time')\n",
        "plt.xlabel('Year')\n",
        "plt.ylabel('Market Value (in EUR)')\n",
        "plt.grid(True)\n",
        "plt.tight_layout()\n",
        "plt.show()"
      ],
      "metadata": {
        "colab": {
          "base_uri": "https://localhost:8080/",
          "height": 599
        },
        "id": "iGjqXDgKQ0Sv",
        "outputId": "058506b3-d7ea-490e-bac0-d9444bdb6af3"
      },
      "execution_count": null,
      "outputs": [
        {
          "output_type": "display_data",
          "data": {
            "text/plain": [
              "<Figure size 1000x600 with 1 Axes>"
            ],
            "image/png": "[encoded data removed]"
          },
          "metadata": {}
        }
      ]
    },
    {
      "cell_type": "markdown",
      "source": [
        "The above line chart represents the market journey of player 28003"
      ],
      "metadata": {
        "id": "gqf3TvgIGYx1"
      }
    },
    {
      "cell_type": "code",
      "source": [
        "df_players_stats.info()"
      ],
      "metadata": {
        "colab": {
          "base_uri": "https://localhost:8080/"
        },
        "id": "sZU-etDBQ8bX",
        "outputId": "71d9bccd-7e3b-4d98-8ba6-022d1edfcb3c"
      },
      "execution_count": null,
      "outputs": [
        {
          "output_type": "stream",
          "name": "stdout",
          "text": [
            "<class 'pandas.core.frame.DataFrame'>\n",
            "RangeIndex: 30518 entries, 0 to 30517\n",
            "Data columns (total 16 columns):\n",
            " #   Column                       Non-Null Count  Dtype  \n",
            "---  ------                       --------------  -----  \n",
            " 0   player_id                    30518 non-null  int64  \n",
            " 1   name                         30518 non-null  object \n",
            " 2   goals                        30518 non-null  float64\n",
            " 3   num_games                    30518 non-null  float64\n",
            " 4   yellow_cards                 30518 non-null  float64\n",
            " 5   red_cards                    30518 non-null  float64\n",
            " 6   minutes_played               30518 non-null  float64\n",
            " 7   country_of_citizenship       29949 non-null  object \n",
            " 8   position                     30518 non-null  object \n",
            " 9   foot                         30518 non-null  object \n",
            " 10  height_in_cm                 30518 non-null  float64\n",
            " 11  current_club_name            30518 non-null  object \n",
            " 12  market_value_in_eur          30518 non-null  float64\n",
            " 13  highest_market_value_in_eur  30518 non-null  float64\n",
            " 14  url                          30518 non-null  object \n",
            " 15  goals_per_game               24077 non-null  float64\n",
            "dtypes: float64(9), int64(1), object(6)\n",
            "memory usage: 3.7+ MB\n"
          ]
        }
      ]
    },
    {
      "cell_type": "code",
      "source": [
        "df2.info()"
      ],
      "metadata": {
        "colab": {
          "base_uri": "https://localhost:8080/"
        },
        "id": "s0YuplUiVKtT",
        "outputId": "1d7dbbcf-d6cb-4197-d43b-ffa96f1c10dc"
      },
      "execution_count": null,
      "outputs": [
        {
          "output_type": "stream",
          "name": "stdout",
          "text": [
            "<class 'pandas.core.frame.DataFrame'>\n",
            "RangeIndex: 473675 entries, 0 to 473674\n",
            "Data columns (total 6 columns):\n",
            " #   Column                               Non-Null Count   Dtype         \n",
            "---  ------                               --------------   -----         \n",
            " 0   player_id                            473675 non-null  int64         \n",
            " 1   date                                 473675 non-null  datetime64[ns]\n",
            " 2   market_value_in_eur                  473675 non-null  int64         \n",
            " 3   current_club_id                      473675 non-null  int64         \n",
            " 4   player_club_domestic_competition_id  473675 non-null  object        \n",
            " 5   year                                 473675 non-null  int32         \n",
            "dtypes: datetime64[ns](1), int32(1), int64(3), object(1)\n",
            "memory usage: 19.9+ MB\n"
          ]
        }
      ]
    },
    {
      "cell_type": "code",
      "source": [
        "common_player_ids = df_players_stats['player_id'].isin(df2['player_id'])\n",
        "common_player_ids_count = common_player_ids.sum()\n",
        "print(f\"Number of common player IDs: {common_player_ids_count}\")\n"
      ],
      "metadata": {
        "colab": {
          "base_uri": "https://localhost:8080/"
        },
        "id": "VDOhMGEEVPyt",
        "outputId": "0a46fbf1-f810-41ac-9a7e-a44ef739de2c"
      },
      "execution_count": null,
      "outputs": [
        {
          "output_type": "stream",
          "name": "stdout",
          "text": [
            "Number of common player IDs: 29420\n"
          ]
        }
      ]
    },
    {
      "cell_type": "code",
      "source": [
        "different_player_ids = df_players_stats[~df_players_stats['player_id'].isin(df2['player_id'])]\n",
        "different_player_ids_count = different_player_ids['player_id'].nunique()\n",
        "print(f\"Number of different player IDs: {different_player_ids_count}\")\n"
      ],
      "metadata": {
        "colab": {
          "base_uri": "https://localhost:8080/"
        },
        "id": "NN4YDjupWw3Y",
        "outputId": "9189f1bd-aeaf-472a-9985-1b650cc3d9bc"
      },
      "execution_count": null,
      "outputs": [
        {
          "output_type": "stream",
          "name": "stdout",
          "text": [
            "Number of different player IDs: 1098\n"
          ]
        }
      ]
    },
    {
      "cell_type": "code",
      "source": [
        "df_players_stats = pd.merge(df2, num_games_by_player, on='player_id', how='left')"
      ],
      "metadata": {
        "id": "Ek568SgMDcmj"
      },
      "execution_count": null,
      "outputs": []
    },
    {
      "cell_type": "code",
      "source": [
        "df3.info()"
      ],
      "metadata": {
        "colab": {
          "base_uri": "https://localhost:8080/"
        },
        "id": "GhcOvLFjFBF6",
        "outputId": "d1d8be2f-2506-4dfc-8483-e84bb6fe16fa"
      },
      "execution_count": null,
      "outputs": [
        {
          "output_type": "stream",
          "name": "stdout",
          "text": [
            "<class 'pandas.core.frame.DataFrame'>\n",
            "RangeIndex: 30518 entries, 0 to 30517\n",
            "Data columns (total 16 columns):\n",
            " #   Column                       Non-Null Count  Dtype  \n",
            "---  ------                       --------------  -----  \n",
            " 0   player_id                    30518 non-null  int64  \n",
            " 1   name                         30518 non-null  object \n",
            " 2   goals                        30518 non-null  float64\n",
            " 3   num_games                    30518 non-null  float64\n",
            " 4   yellow_cards                 30518 non-null  float64\n",
            " 5   red_cards                    30518 non-null  float64\n",
            " 6   minutes_played               30518 non-null  float64\n",
            " 7   country_of_citizenship       29949 non-null  object \n",
            " 8   position                     30518 non-null  object \n",
            " 9   foot                         30518 non-null  object \n",
            " 10  height_in_cm                 30518 non-null  float64\n",
            " 11  current_club_name            30518 non-null  object \n",
            " 12  market_value_in_eur          30518 non-null  float64\n",
            " 13  highest_market_value_in_eur  30518 non-null  float64\n",
            " 14  url                          30518 non-null  object \n",
            " 15  goals_per_game               24077 non-null  float64\n",
            "dtypes: float64(9), int64(1), object(6)\n",
            "memory usage: 3.7+ MB\n"
          ]
        }
      ]
    },
    {
      "cell_type": "code",
      "source": [
        "num_games_by_player = df1['player_id'].value_counts().reset_index()\n",
        "num_games_by_player.columns = ['player_id', 'num_games']"
      ],
      "metadata": {
        "id": "thhQpCzcFF_H"
      },
      "execution_count": null,
      "outputs": []
    },
    {
      "cell_type": "code",
      "source": [
        "df_players_stats = pd.merge(df3, assists_by_player, on='player_id', how='left')"
      ],
      "metadata": {
        "id": "FEMR_XxTFVoq"
      },
      "execution_count": null,
      "outputs": []
    },
    {
      "cell_type": "code",
      "source": [
        "df1['date'] = pd.to_datetime(df1['date'])\n",
        "df1['year'] = df1['date'].dt.year\n",
        "goals_per_year = df1.groupby(['player_id', 'year'])['goals'].sum().reset_index()\n",
        "goals_per_year = goals_per_year.merge(df3[['player_id', 'name']], on='player_id', how='left')\n",
        "goals_pivot = goals_per_year.pivot(index=['player_id', 'name'], columns='year', values='goals').reset_index()\n",
        "goals_pivot.to_csv('player_goals_per_year.csv', index=False)\n"
      ],
      "metadata": {
        "id": "E8-KjEjr4-u4"
      },
      "execution_count": null,
      "outputs": []
    },
    {
      "cell_type": "code",
      "source": [
        "df4.info()"
      ],
      "metadata": {
        "colab": {
          "base_uri": "https://localhost:8080/"
        },
        "id": "Mxb63ZMH6KK1",
        "outputId": "6d290e16-d879-4f95-ca2d-af5780a935f0"
      },
      "execution_count": null,
      "outputs": [
        {
          "output_type": "stream",
          "name": "stdout",
          "text": [
            "<class 'pandas.core.frame.DataFrame'>\n",
            "RangeIndex: 24080 entries, 0 to 24079\n",
            "Data columns (total 15 columns):\n",
            " #   Column     Non-Null Count  Dtype  \n",
            "---  ------     --------------  -----  \n",
            " 0   player_id  24080 non-null  int64  \n",
            " 1   name       14708 non-null  object \n",
            " 2   2012       5931 non-null   float64\n",
            " 3   2013       7747 non-null   float64\n",
            " 4   2014       7640 non-null   float64\n",
            " 5   2015       7744 non-null   float64\n",
            " 6   2016       7789 non-null   float64\n",
            " 7   2017       7734 non-null   float64\n",
            " 8   2018       7852 non-null   float64\n",
            " 9   2019       7688 non-null   float64\n",
            " 10  2020       7827 non-null   float64\n",
            " 11  2021       7905 non-null   float64\n",
            " 12  2022       7839 non-null   float64\n",
            " 13  2023       7863 non-null   float64\n",
            " 14  2024       5699 non-null   float64\n",
            "dtypes: float64(13), int64(1), object(1)\n",
            "memory usage: 2.8+ MB\n"
          ]
        }
      ]
    },
    {
      "cell_type": "code",
      "source": [
        "df_comp= pd.read_csv('/content/competitions.csv')\n",
        "df_club= pd.read_csv('/content/clubs.csv')"
      ],
      "metadata": {
        "id": "uR00h56H6evi"
      },
      "execution_count": null,
      "outputs": []
    },
    {
      "cell_type": "code",
      "source": [
        "df_comp.info()"
      ],
      "metadata": {
        "colab": {
          "base_uri": "https://localhost:8080/"
        },
        "id": "JX87f4ABFzK_",
        "outputId": "f33656f8-0f84-4ade-bd0b-447a805de532"
      },
      "execution_count": null,
      "outputs": [
        {
          "output_type": "stream",
          "name": "stdout",
          "text": [
            "<class 'pandas.core.frame.DataFrame'>\n",
            "RangeIndex: 44 entries, 0 to 43\n",
            "Data columns (total 11 columns):\n",
            " #   Column                    Non-Null Count  Dtype \n",
            "---  ------                    --------------  ----- \n",
            " 0   competition_id            44 non-null     object\n",
            " 1   competition_code          44 non-null     object\n",
            " 2   name                      44 non-null     object\n",
            " 3   sub_type                  44 non-null     object\n",
            " 4   type                      44 non-null     object\n",
            " 5   country_id                44 non-null     int64 \n",
            " 6   country_name              36 non-null     object\n",
            " 7   domestic_league_code      36 non-null     object\n",
            " 8   confederation             44 non-null     object\n",
            " 9   url                       44 non-null     object\n",
            " 10  is_major_national_league  44 non-null     bool  \n",
            "dtypes: bool(1), int64(1), object(9)\n",
            "memory usage: 3.6+ KB\n"
          ]
        }
      ]
    },
    {
      "cell_type": "code",
      "source": [
        "df_club.info()"
      ],
      "metadata": {
        "colab": {
          "base_uri": "https://localhost:8080/"
        },
        "id": "C1dWCyZAGHOX",
        "outputId": "5aa4afa7-34a5-4eee-ce99-4ce2488556d8"
      },
      "execution_count": null,
      "outputs": [
        {
          "output_type": "stream",
          "name": "stdout",
          "text": [
            "<class 'pandas.core.frame.DataFrame'>\n",
            "RangeIndex: 426 entries, 0 to 425\n",
            "Data columns (total 17 columns):\n",
            " #   Column                   Non-Null Count  Dtype  \n",
            "---  ------                   --------------  -----  \n",
            " 0   club_id                  426 non-null    int64  \n",
            " 1   club_code                426 non-null    object \n",
            " 2   name                     426 non-null    object \n",
            " 3   domestic_competition_id  426 non-null    object \n",
            " 4   total_market_value       0 non-null      float64\n",
            " 5   squad_size               426 non-null    int64  \n",
            " 6   average_age              388 non-null    float64\n",
            " 7   foreigners_number        426 non-null    int64  \n",
            " 8   foreigners_percentage    378 non-null    float64\n",
            " 9   national_team_players    426 non-null    int64  \n",
            " 10  stadium_name             426 non-null    object \n",
            " 11  stadium_seats            426 non-null    int64  \n",
            " 12  net_transfer_record      426 non-null    object \n",
            " 13  coach_name               0 non-null      float64\n",
            " 14  last_season              426 non-null    int64  \n",
            " 15  filename                 426 non-null    object \n",
            " 16  url                      426 non-null    object \n",
            "dtypes: float64(4), int64(6), object(7)\n",
            "memory usage: 56.7+ KB\n"
          ]
        }
      ]
    },
    {
      "cell_type": "code",
      "source": [
        "\n",
        "df_club.rename(columns={'name': 'club_name'}, inplace=True)\n",
        "\n",
        "print(df_club.head())\n"
      ],
      "metadata": {
        "colab": {
          "base_uri": "https://localhost:8080/"
        },
        "id": "-nsFVFp2J18D",
        "outputId": "4f67ad75-2a74-4bfd-b8e3-a1b887c71c0d"
      },
      "execution_count": null,
      "outputs": [
        {
          "output_type": "stream",
          "name": "stdout",
          "text": [
            "   club_id          club_code                         club_name  \\\n",
            "0      105    sv-darmstadt-98  Sportverein Darmstadt 1898 e. V.   \n",
            "1    11127  ural-ekaterinburg             FK Ural Yekaterinburg   \n",
            "2      114  besiktas-istanbul         Beşiktaş Jimnastik Kulübü   \n",
            "3       12             as-rom        Associazione Sportiva Roma   \n",
            "4      148  tottenham-hotspur   Tottenham Hotspur Football Club   \n",
            "\n",
            "  domestic_competition_id  total_market_value  squad_size  average_age  \\\n",
            "0                      L1                 NaN          31         26.8   \n",
            "1                     RU1                 NaN          27         28.2   \n",
            "2                     TR1                 NaN          39         26.1   \n",
            "3                     IT1                 NaN          26         27.2   \n",
            "4                     GB1                 NaN          30         25.6   \n",
            "\n",
            "   foreigners_number  foreigners_percentage  national_team_players  \\\n",
            "0                 11                   35.5                      1   \n",
            "1                 15                   55.6                      6   \n",
            "2                 17                   43.6                     14   \n",
            "3                 18                   69.2                     14   \n",
            "4                 22                   73.3                     20   \n",
            "\n",
            "                     stadium_name  stadium_seats net_transfer_record  \\\n",
            "0  Merck-Stadion am Böllenfalltor          17810             €-1.48m   \n",
            "1             Yekaterinburg Arena          23000              €-895k   \n",
            "2                 Tüpraş Stadyumu          42445            €-26.00m   \n",
            "3                Olimpico di Roma          73261            +€63.20m   \n",
            "4       Tottenham Hotspur Stadium          62850           €-151.40m   \n",
            "\n",
            "   coach_name  last_season                                           filename  \\\n",
            "0         NaN         2023  ../data/raw/transfermarkt-scraper/2023/clubs.j...   \n",
            "1         NaN         2023  ../data/raw/transfermarkt-scraper/2023/clubs.j...   \n",
            "2         NaN         2023  ../data/raw/transfermarkt-scraper/2023/clubs.j...   \n",
            "3         NaN         2023  ../data/raw/transfermarkt-scraper/2023/clubs.j...   \n",
            "4         NaN         2023  ../data/raw/transfermarkt-scraper/2023/clubs.j...   \n",
            "\n",
            "                                                 url  \n",
            "0  https://www.transfermarkt.co.uk/sv-darmstadt-9...  \n",
            "1  https://www.transfermarkt.co.uk/ural-ekaterinb...  \n",
            "2  https://www.transfermarkt.co.uk/besiktas-istan...  \n",
            "3  https://www.transfermarkt.co.uk/as-rom/startse...  \n",
            "4  https://www.transfermarkt.co.uk/tottenham-hots...  \n"
          ]
        }
      ]
    },
    {
      "cell_type": "code",
      "source": [
        "df_merged = pd.merge(df_club, df_comp, left_on='domestic_competition_id', right_on='domestic_league_code', how='left')\n",
        "\n",
        "df_final = df_merged[['club_id', 'club_name', 'domestic_competition_id', 'country_name']]\n",
        "df_final.columns = ['club_id', 'name', 'domestic_competition_id', 'country_name']\n",
        "\n",
        "\n",
        "df_final.to_csv('clubs_with_country.csv', index=False)\n",
        "\n",
        "print(df_final.head())\n"
      ],
      "metadata": {
        "colab": {
          "base_uri": "https://localhost:8080/"
        },
        "id": "At4YeCp5GLE_",
        "outputId": "0822fa1f-abf3-438e-9760-01a1af43e946"
      },
      "execution_count": null,
      "outputs": [
        {
          "output_type": "stream",
          "name": "stdout",
          "text": [
            "   club_id                              name domestic_competition_id  \\\n",
            "0      105  Sportverein Darmstadt 1898 e. V.                      L1   \n",
            "1      105  Sportverein Darmstadt 1898 e. V.                      L1   \n",
            "2      105  Sportverein Darmstadt 1898 e. V.                      L1   \n",
            "3    11127             FK Ural Yekaterinburg                     RU1   \n",
            "4    11127             FK Ural Yekaterinburg                     RU1   \n",
            "\n",
            "  country_name  \n",
            "0      Germany  \n",
            "1      Germany  \n",
            "2      Germany  \n",
            "3       Russia  \n",
            "4       Russia  \n"
          ]
        }
      ]
    },
    {
      "cell_type": "code",
      "source": [
        "df_final = df_final.drop_duplicates()"
      ],
      "metadata": {
        "id": "vDgkLwZEIxXt"
      },
      "execution_count": null,
      "outputs": []
    },
    {
      "cell_type": "code",
      "source": [
        "print(df_final.head())\n",
        "df_final.to_csv('clubs_and_country .csv', index=False)"
      ],
      "metadata": {
        "colab": {
          "base_uri": "https://localhost:8080/"
        },
        "id": "iJhtK9TAKQIK",
        "outputId": "be28e3d8-88ef-47bb-8f29-1d3e7c672236"
      },
      "execution_count": null,
      "outputs": [
        {
          "output_type": "stream",
          "name": "stdout",
          "text": [
            "    club_id                              name domestic_competition_id  \\\n",
            "0       105  Sportverein Darmstadt 1898 e. V.                      L1   \n",
            "3     11127             FK Ural Yekaterinburg                     RU1   \n",
            "6       114         Beşiktaş Jimnastik Kulübü                     TR1   \n",
            "7        12        Associazione Sportiva Roma                     IT1   \n",
            "10      148   Tottenham Hotspur Football Club                     GB1   \n",
            "\n",
            "   country_name  \n",
            "0       Germany  \n",
            "3        Russia  \n",
            "6        Turkey  \n",
            "7         Italy  \n",
            "10      England  \n"
          ]
        }
      ]
    },
    {
      "cell_type": "code",
      "source": [
        "df_final.info()"
      ],
      "metadata": {
        "colab": {
          "base_uri": "https://localhost:8080/"
        },
        "id": "TcOW59GcKSXG",
        "outputId": "11e76852-36d9-4012-b5e7-fab7664c4a5c"
      },
      "execution_count": null,
      "outputs": [
        {
          "output_type": "stream",
          "name": "stdout",
          "text": [
            "<class 'pandas.core.frame.DataFrame'>\n",
            "Index: 426 entries, 0 to 1105\n",
            "Data columns (total 4 columns):\n",
            " #   Column                   Non-Null Count  Dtype \n",
            "---  ------                   --------------  ----- \n",
            " 0   club_id                  426 non-null    int64 \n",
            " 1   name                     426 non-null    object\n",
            " 2   domestic_competition_id  426 non-null    object\n",
            " 3   country_name             426 non-null    object\n",
            "dtypes: int64(1), object(3)\n",
            "memory usage: 16.6+ KB\n"
          ]
        }
      ]
    },
    {
      "cell_type": "code",
      "source": [
        "\n",
        "df_merged = df1.merge(df_final, left_on='player_club_id', right_on='club_id', how='left')\n",
        "\n",
        "\n",
        "result = df_merged[['appearance_id', 'game_id', 'player_id', 'player_club_id', 'player_current_club_id',\n",
        "                    'date', 'player_name', 'competition_id', 'yellow_cards', 'red_cards',\n",
        "                    'goals', 'assists', 'minutes_played', 'year', 'name', 'country_name']]\n",
        "\n",
        "\n",
        "print(result)\n"
      ],
      "metadata": {
        "colab": {
          "base_uri": "https://localhost:8080/"
        },
        "id": "Eve2BgjWNy-F",
        "outputId": "804928fa-1d6d-49ac-c02a-e5134a92fb51"
      },
      "execution_count": null,
      "outputs": [
        {
          "output_type": "stream",
          "name": "stdout",
          "text": [
            "          appearance_id  game_id  player_id  player_club_id  \\\n",
            "0         2231978_38004  2231978      38004             853   \n",
            "1         2233748_79232  2233748      79232            8841   \n",
            "2         2234413_42792  2234413      42792            6251   \n",
            "3         2234418_73333  2234418      73333            1274   \n",
            "4        2234421_122011  2234421     122011             195   \n",
            "...                 ...      ...        ...             ...   \n",
            "1583627  4346131_720287  4346131     720287            2741   \n",
            "1583628  4346131_814269  4346131     814269             964   \n",
            "1583629  4346131_815346  4346131     815346            2741   \n",
            "1583630   4346131_84483  4346131      84483             964   \n",
            "1583631  4346131_983977  4346131     983977            2741   \n",
            "\n",
            "         player_current_club_id       date        player_name competition_id  \\\n",
            "0                           235 2012-07-03   Aurélien Joachim            CLQ   \n",
            "1                          2698 2012-07-05     Ruslan Abyshov            ELQ   \n",
            "2                           465 2012-07-05        Sander Puri            ELQ   \n",
            "3                          6646 2012-07-05    Vegar Hedenstad            ELQ   \n",
            "4                          3008 2012-07-05   Markus Henriksen            ELQ   \n",
            "...                         ...        ...                ...            ...   \n",
            "1583627                    2741 2024-06-02      Danila Kozlov            RUP   \n",
            "1583628                     964 2024-06-02    Gustavo Mantuan            RUP   \n",
            "1583629                    2741 2024-06-02     Nathan Gassama            RUP   \n",
            "1583630                     964 2024-06-02  Aleksandr Erokhin            RUP   \n",
            "1583631                    2741 2024-06-02     Alex Fernandes            RUP   \n",
            "\n",
            "         yellow_cards  red_cards  goals  assists  minutes_played  year  \\\n",
            "0                   0          0      2        0              90  2012   \n",
            "1                   0          0      0        0              90  2012   \n",
            "2                   0          0      0        0              45  2012   \n",
            "3                   0          0      0        0              90  2012   \n",
            "4                   0          0      0        1              90  2012   \n",
            "...               ...        ...    ...      ...             ...   ...   \n",
            "1583627             0          0      0        1              87  2024   \n",
            "1583628             0          0      0        0              45  2024   \n",
            "1583629             0          0      0        0              19  2024   \n",
            "1583630             1          0      0        0              26  2024   \n",
            "1583631             0          0      1        0              90  2024   \n",
            "\n",
            "                                name country_name  \n",
            "0                                NaN          NaN  \n",
            "1                                NaN          NaN  \n",
            "2                                NaN          NaN  \n",
            "3                                NaN          NaN  \n",
            "4                                NaN          NaN  \n",
            "...                              ...          ...  \n",
            "1583627                   FK Baltika       Russia  \n",
            "1583628  AO FK Zenit Sankt-Peterburg       Russia  \n",
            "1583629                   FK Baltika       Russia  \n",
            "1583630  AO FK Zenit Sankt-Peterburg       Russia  \n",
            "1583631                   FK Baltika       Russia  \n",
            "\n",
            "[1583632 rows x 16 columns]\n"
          ]
        }
      ]
    },
    {
      "cell_type": "code",
      "source": [
        "\n",
        "specific_player_id = 36139\n",
        "\n",
        "player_data = result[result['player_id'] == specific_player_id]\n",
        "\n",
        "\n",
        "print(player_data)\n"
      ],
      "metadata": {
        "colab": {
          "base_uri": "https://localhost:8080/"
        },
        "id": "OvzyBeYpRdoF",
        "outputId": "5a9a8a91-e7a3-4814-80bc-abe209d5be69"
      },
      "execution_count": null,
      "outputs": [
        {
          "output_type": "stream",
          "name": "stdout",
          "text": [
            "         appearance_id  game_id  player_id  player_club_id  \\\n",
            "12       2235545_36139  2235545      36139             317   \n",
            "650      2244377_36139  2244377      36139             317   \n",
            "1403     2244360_36139  2244360      36139             317   \n",
            "2686     2247090_36139  2247090      36139             317   \n",
            "4157     2247102_36139  2247102      36139             317   \n",
            "...                ...      ...        ...             ...   \n",
            "1571015  4129750_36139  4129750      36139              36   \n",
            "1575506  4129760_36139  4129760      36139              36   \n",
            "1578048  4129763_36139  4129763      36139              36   \n",
            "1581771  4129780_36139  4129780      36139              36   \n",
            "1583340  4129784_36139  4129784      36139              36   \n",
            "\n",
            "         player_current_club_id       date  player_name competition_id  \\\n",
            "12                           36 2012-07-05  Dusan Tadic            ELQ   \n",
            "650                          36 2012-07-19  Dusan Tadic            ELQ   \n",
            "1403                         36 2012-07-26  Dusan Tadic            ELQ   \n",
            "2686                         36 2012-08-02  Dusan Tadic            ELQ   \n",
            "4157                         36 2012-08-09  Dusan Tadic            ELQ   \n",
            "...                         ...        ...          ...            ...   \n",
            "1571015                      36 2024-04-27  Dusan Tadic            TR1   \n",
            "1575506                      36 2024-05-06  Dusan Tadic            TR1   \n",
            "1578048                      36 2024-05-12  Dusan Tadic            TR1   \n",
            "1581771                      36 2024-05-19  Dusan Tadic            TR1   \n",
            "1583340                      36 2024-05-26  Dusan Tadic            TR1   \n",
            "\n",
            "         yellow_cards  red_cards  goals  assists  minutes_played  year  \\\n",
            "12                  0          0      1        0              45  2012   \n",
            "650                 0          0      1        0              90  2012   \n",
            "1403                0          0      0        2              90  2012   \n",
            "2686                0          0      0        1              90  2012   \n",
            "4157                0          0      0        0              60  2012   \n",
            "...               ...        ...    ...      ...             ...   ...   \n",
            "1571015             0          0      0        1              90  2024   \n",
            "1575506             0          0      0        0              81  2024   \n",
            "1578048             0          0      0        1              66  2024   \n",
            "1581771             0          0      0        0              89  2024   \n",
            "1583340             0          0      1        1              90  2024   \n",
            "\n",
            "                           name country_name  \n",
            "12         Football Club Twente  Netherlands  \n",
            "650        Football Club Twente  Netherlands  \n",
            "1403       Football Club Twente  Netherlands  \n",
            "2686       Football Club Twente  Netherlands  \n",
            "4157       Football Club Twente  Netherlands  \n",
            "...                         ...          ...  \n",
            "1571015  Fenerbahçe Spor Kulübü       Turkey  \n",
            "1575506  Fenerbahçe Spor Kulübü       Turkey  \n",
            "1578048  Fenerbahçe Spor Kulübü       Turkey  \n",
            "1581771  Fenerbahçe Spor Kulübü       Turkey  \n",
            "1583340  Fenerbahçe Spor Kulübü       Turkey  \n",
            "\n",
            "[518 rows x 16 columns]\n"
          ]
        }
      ]
    },
    {
      "cell_type": "code",
      "source": [
        "\n",
        "player_data.to_csv('player_data.csv', index=False)\n"
      ],
      "metadata": {
        "id": "B-B_QwngSHzC"
      },
      "execution_count": null,
      "outputs": []
    },
    {
      "cell_type": "code",
      "source": [
        "player_data.info()"
      ],
      "metadata": {
        "colab": {
          "base_uri": "https://localhost:8080/"
        },
        "id": "cTfaGP4vZZDQ",
        "outputId": "07fd6662-c724-4ca6-bc07-e7da28352f73"
      },
      "execution_count": null,
      "outputs": [
        {
          "output_type": "stream",
          "name": "stdout",
          "text": [
            "<class 'pandas.core.frame.DataFrame'>\n",
            "RangeIndex: 482 entries, 0 to 481\n",
            "Data columns (total 20 columns):\n",
            " #   Column                   Non-Null Count  Dtype         \n",
            "---  ------                   --------------  -----         \n",
            " 0   appearance_id            482 non-null    object        \n",
            " 1   game_id                  482 non-null    int64         \n",
            " 2   player_id                482 non-null    int64         \n",
            " 3   player_club_id           482 non-null    int64         \n",
            " 4   player_current_club_id   482 non-null    int64         \n",
            " 5   date                     482 non-null    datetime64[ns]\n",
            " 6   player_name              482 non-null    object        \n",
            " 7   competition_id           482 non-null    object        \n",
            " 8   yellow_cards             482 non-null    int64         \n",
            " 9   red_cards                482 non-null    int64         \n",
            " 10  goals                    482 non-null    int64         \n",
            " 11  assists                  482 non-null    int64         \n",
            " 12  minutes_played           482 non-null    int64         \n",
            " 13  year                     482 non-null    int32         \n",
            " 14  name_x                   482 non-null    object        \n",
            " 15  country_name_x           482 non-null    object        \n",
            " 16  club_id                  482 non-null    int64         \n",
            " 17  name_y                   482 non-null    object        \n",
            " 18  domestic_competition_id  482 non-null    object        \n",
            " 19  country_name_y           482 non-null    object        \n",
            "dtypes: datetime64[ns](1), int32(1), int64(10), object(8)\n",
            "memory usage: 73.6+ KB\n"
          ]
        }
      ]
    },
    {
      "cell_type": "code",
      "source": [
        "player_data.head()"
      ],
      "metadata": {
        "colab": {
          "base_uri": "https://localhost:8080/",
          "height": 487
        },
        "id": "CwdDGucUZ3hY",
        "outputId": "090cb672-3db3-4c37-fe0a-4c39553e8037"
      },
      "execution_count": null,
      "outputs": [
        {
          "output_type": "execute_result",
          "data": {
            "text/plain": [
              "  appearance_id  game_id  player_id  player_club_id  player_current_club_id  \\\n",
              "0  2244382_8198  2244382       8198             418                     985   \n",
              "1  2244388_8198  2244388       8198             418                     985   \n",
              "2  2242834_8198  2242834       8198             418                     985   \n",
              "3  2244389_8198  2244389       8198             418                     985   \n",
              "4  2242882_8198  2242882       8198             418                     985   \n",
              "\n",
              "        date        player_name competition_id  yellow_cards  red_cards  \\\n",
              "0 2012-08-19  Cristiano Ronaldo            ES1             0          0   \n",
              "1 2012-08-22  Cristiano Ronaldo            SUC             0          0   \n",
              "2 2012-08-26  Cristiano Ronaldo            ES1             0          0   \n",
              "3 2012-08-29  Cristiano Ronaldo            SUC             0          0   \n",
              "4 2012-09-02  Cristiano Ronaldo            ES1             0          0   \n",
              "\n",
              "   goals  assists  minutes_played  year                      name_x  \\\n",
              "0      0        0              90  2012  Real Madrid Club de Fútbol   \n",
              "1      1        0              90  2012  Real Madrid Club de Fútbol   \n",
              "2      0        0              90  2012  Real Madrid Club de Fútbol   \n",
              "3      1        0              90  2012  Real Madrid Club de Fútbol   \n",
              "4      2        0              63  2012  Real Madrid Club de Fútbol   \n",
              "\n",
              "  country_name_x  club_id                      name_y domestic_competition_id  \\\n",
              "0          Spain      418  Real Madrid Club de Fútbol                     ES1   \n",
              "1          Spain      418  Real Madrid Club de Fútbol                     ES1   \n",
              "2          Spain      418  Real Madrid Club de Fútbol                     ES1   \n",
              "3          Spain      418  Real Madrid Club de Fútbol                     ES1   \n",
              "4          Spain      418  Real Madrid Club de Fútbol                     ES1   \n",
              "\n",
              "  country_name_y  \n",
              "0          Spain  \n",
              "1          Spain  \n",
              "2          Spain  \n",
              "3          Spain  \n",
              "4          Spain  "
            ],
            "text/html": [
              "\n",
              "  <div id=\"df-015ca83b-390b-4138-8ed7-72172cc20c3c\" class=\"colab-df-container\">\n",
              "    <div>\n",
              "<style scoped>\n",
              "    .dataframe tbody tr th:only-of-type {\n",
              "        vertical-align: middle;\n",
              "    }\n",
              "\n",
              "    .dataframe tbody tr th {\n",
              "        vertical-align: top;\n",
              "    }\n",
              "\n",
              "    .dataframe thead th {\n",
              "        text-align: right;\n",
              "    }\n",
              "</style>\n",
              "<table border=\"1\" class=\"dataframe\">\n",
              "  <thead>\n",
              "    <tr style=\"text-align: right;\">\n",
              "      <th></th>\n",
              "      <th>appearance_id</th>\n",
              "      <th>game_id</th>\n",
              "      <th>player_id</th>\n",
              "      <th>player_club_id</th>\n",
              "      <th>player_current_club_id</th>\n",
              "      <th>date</th>\n",
              "      <th>player_name</th>\n",
              "      <th>competition_id</th>\n",
              "      <th>yellow_cards</th>\n",
              "      <th>red_cards</th>\n",
              "      <th>goals</th>\n",
              "      <th>assists</th>\n",
              "      <th>minutes_played</th>\n",
              "      <th>year</th>\n",
              "      <th>name_x</th>\n",
              "      <th>country_name_x</th>\n",
              "      <th>club_id</th>\n",
              "      <th>name_y</th>\n",
              "      <th>domestic_competition_id</th>\n",
              "      <th>country_name_y</th>\n",
              "    </tr>\n",
              "  </thead>\n",
              "  <tbody>\n",
              "    <tr>\n",
              "      <th>0</th>\n",
              "      <td>2244382_8198</td>\n",
              "      <td>2244382</td>\n",
              "      <td>8198</td>\n",
              "      <td>418</td>\n",
              "      <td>985</td>\n",
              "      <td>2012-08-19</td>\n",
              "      <td>Cristiano Ronaldo</td>\n",
              "      <td>ES1</td>\n",
              "      <td>0</td>\n",
              "      <td>0</td>\n",
              "      <td>0</td>\n",
              "      <td>0</td>\n",
              "      <td>90</td>\n",
              "      <td>2012</td>\n",
              "      <td>Real Madrid Club de Fútbol</td>\n",
              "      <td>Spain</td>\n",
              "      <td>418</td>\n",
              "      <td>Real Madrid Club de Fútbol</td>\n",
              "      <td>ES1</td>\n",
              "      <td>Spain</td>\n",
              "    </tr>\n",
              "    <tr>\n",
              "      <th>1</th>\n",
              "      <td>2244388_8198</td>\n",
              "      <td>2244388</td>\n",
              "      <td>8198</td>\n",
              "      <td>418</td>\n",
              "      <td>985</td>\n",
              "      <td>2012-08-22</td>\n",
              "      <td>Cristiano Ronaldo</td>\n",
              "      <td>SUC</td>\n",
              "      <td>0</td>\n",
              "      <td>0</td>\n",
              "      <td>1</td>\n",
              "      <td>0</td>\n",
              "      <td>90</td>\n",
              "      <td>2012</td>\n",
              "      <td>Real Madrid Club de Fútbol</td>\n",
              "      <td>Spain</td>\n",
              "      <td>418</td>\n",
              "      <td>Real Madrid Club de Fútbol</td>\n",
              "      <td>ES1</td>\n",
              "      <td>Spain</td>\n",
              "    </tr>\n",
              "    <tr>\n",
              "      <th>2</th>\n",
              "      <td>2242834_8198</td>\n",
              "      <td>2242834</td>\n",
              "      <td>8198</td>\n",
              "      <td>418</td>\n",
              "      <td>985</td>\n",
              "      <td>2012-08-26</td>\n",
              "      <td>Cristiano Ronaldo</td>\n",
              "      <td>ES1</td>\n",
              "      <td>0</td>\n",
              "      <td>0</td>\n",
              "      <td>0</td>\n",
              "      <td>0</td>\n",
              "      <td>90</td>\n",
              "      <td>2012</td>\n",
              "      <td>Real Madrid Club de Fútbol</td>\n",
              "      <td>Spain</td>\n",
              "      <td>418</td>\n",
              "      <td>Real Madrid Club de Fútbol</td>\n",
              "      <td>ES1</td>\n",
              "      <td>Spain</td>\n",
              "    </tr>\n",
              "    <tr>\n",
              "      <th>3</th>\n",
              "      <td>2244389_8198</td>\n",
              "      <td>2244389</td>\n",
              "      <td>8198</td>\n",
              "      <td>418</td>\n",
              "      <td>985</td>\n",
              "      <td>2012-08-29</td>\n",
              "      <td>Cristiano Ronaldo</td>\n",
              "      <td>SUC</td>\n",
              "      <td>0</td>\n",
              "      <td>0</td>\n",
              "      <td>1</td>\n",
              "      <td>0</td>\n",
              "      <td>90</td>\n",
              "      <td>2012</td>\n",
              "      <td>Real Madrid Club de Fútbol</td>\n",
              "      <td>Spain</td>\n",
              "      <td>418</td>\n",
              "      <td>Real Madrid Club de Fútbol</td>\n",
              "      <td>ES1</td>\n",
              "      <td>Spain</td>\n",
              "    </tr>\n",
              "    <tr>\n",
              "      <th>4</th>\n",
              "      <td>2242882_8198</td>\n",
              "      <td>2242882</td>\n",
              "      <td>8198</td>\n",
              "      <td>418</td>\n",
              "      <td>985</td>\n",
              "      <td>2012-09-02</td>\n",
              "      <td>Cristiano Ronaldo</td>\n",
              "      <td>ES1</td>\n",
              "      <td>0</td>\n",
              "      <td>0</td>\n",
              "      <td>2</td>\n",
              "      <td>0</td>\n",
              "      <td>63</td>\n",
              "      <td>2012</td>\n",
              "      <td>Real Madrid Club de Fútbol</td>\n",
              "      <td>Spain</td>\n",
              "      <td>418</td>\n",
              "      <td>Real Madrid Club de Fútbol</td>\n",
              "      <td>ES1</td>\n",
              "      <td>Spain</td>\n",
              "    </tr>\n",
              "  </tbody>\n",
              "</table>\n",
              "</div>\n",
              "    <div class=\"colab-df-buttons\">\n",
              "\n",
              "  <div class=\"colab-df-container\">\n",
              "    <button class=\"colab-df-convert\" onclick=\"convertToInteractive('df-015ca83b-390b-4138-8ed7-72172cc20c3c')\"\n",
              "            title=\"Convert this dataframe to an interactive table.\"\n",
              "            style=\"display:none;\">\n",
              "\n",
              "  <svg xmlns=\"http://www.w3.org/2000/svg\" height=\"24px\" viewBox=\"0 -960 960 960\">\n",
              "    <path d=\"M120-120v-720h720v720H120Zm60-500h600v-160H180v160Zm220 220h160v-160H400v160Zm0 220h160v-160H400v160ZM180-400h160v-160H180v160Zm440 0h160v-160H620v160ZM180-180h160v-160H180v160Zm440 0h160v-160H620v160Z\"/>\n",
              "  </svg>\n",
              "    </button>\n",
              "\n",
              "  <style>\n",
              "    .colab-df-container {\n",
              "      display:flex;\n",
              "      gap: 12px;\n",
              "    }\n",
              "\n",
              "    .colab-df-convert {\n",
              "      background-color: #E8F0FE;\n",
              "      border: none;\n",
              "      border-radius: 50%;\n",
              "      cursor: pointer;\n",
              "      display: none;\n",
              "      fill: #1967D2;\n",
              "      height: 32px;\n",
              "      padding: 0 0 0 0;\n",
              "      width: 32px;\n",
              "    }\n",
              "\n",
              "    .colab-df-convert:hover {\n",
              "      background-color: #E2EBFA;\n",
              "      box-shadow: 0px 1px 2px rgba(60, 64, 67, 0.3), 0px 1px 3px 1px rgba(60, 64, 67, 0.15);\n",
              "      fill: #174EA6;\n",
              "    }\n",
              "\n",
              "    .colab-df-buttons div {\n",
              "      margin-bottom: 4px;\n",
              "    }\n",
              "\n",
              "    [theme=dark] .colab-df-convert {\n",
              "      background-color: #3B4455;\n",
              "      fill: #D2E3FC;\n",
              "    }\n",
              "\n",
              "    [theme=dark] .colab-df-convert:hover {\n",
              "      background-color: #434B5C;\n",
              "      box-shadow: 0px 1px 3px 1px rgba(0, 0, 0, 0.15);\n",
              "      filter: drop-shadow(0px 1px 2px rgba(0, 0, 0, 0.3));\n",
              "      fill: #FFFFFF;\n",
              "    }\n",
              "  </style>\n",
              "\n",
              "    <script>\n",
              "      const buttonEl =\n",
              "        document.querySelector('#df-015ca83b-390b-4138-8ed7-72172cc20c3c button.colab-df-convert');\n",
              "      buttonEl.style.display =\n",
              "        google.colab.kernel.accessAllowed ? 'block' : 'none';\n",
              "\n",
              "      async function convertToInteractive(key) {\n",
              "        const element = document.querySelector('#df-015ca83b-390b-4138-8ed7-72172cc20c3c');\n",
              "        const dataTable =\n",
              "          await google.colab.kernel.invokeFunction('convertToInteractive',\n",
              "                                                    [key], {});\n",
              "        if (!dataTable) return;\n",
              "\n",
              "        const docLinkHtml = 'Like what you see? Visit the ' +\n",
              "          '<a target=\"_blank\" href=https://colab.research.google.com/notebooks/data_table.ipynb>data table notebook</a>'\n",
              "          + ' to learn more about interactive tables.';\n",
              "        element.innerHTML = '';\n",
              "        dataTable['output_type'] = 'display_data';\n",
              "        await google.colab.output.renderOutput(dataTable, element);\n",
              "        const docLink = document.createElement('div');\n",
              "        docLink.innerHTML = docLinkHtml;\n",
              "        element.appendChild(docLink);\n",
              "      }\n",
              "    </script>\n",
              "  </div>\n",
              "\n",
              "\n",
              "<div id=\"df-5a3cf87e-e114-4be8-9a20-2f70f20fa7dc\">\n",
              "  <button class=\"colab-df-quickchart\" onclick=\"quickchart('df-5a3cf87e-e114-4be8-9a20-2f70f20fa7dc')\"\n",
              "            title=\"Suggest charts\"\n",
              "            style=\"display:none;\">\n",
              "\n",
              "<svg xmlns=\"http://www.w3.org/2000/svg\" height=\"24px\"viewBox=\"0 0 24 24\"\n",
              "     width=\"24px\">\n",
              "    <g>\n",
              "        <path d=\"M19 3H5c-1.1 0-2 .9-2 2v14c0 1.1.9 2 2 2h14c1.1 0 2-.9 2-2V5c0-1.1-.9-2-2-2zM9 17H7v-7h2v7zm4 0h-2V7h2v10zm4 0h-2v-4h2v4z\"/>\n",
              "    </g>\n",
              "</svg>\n",
              "  </button>\n",
              "\n",
              "<style>\n",
              "  .colab-df-quickchart {\n",
              "      --bg-color: #E8F0FE;\n",
              "      --fill-color: #1967D2;\n",
              "      --hover-bg-color: #E2EBFA;\n",
              "      --hover-fill-color: #174EA6;\n",
              "      --disabled-fill-color: #AAA;\n",
              "      --disabled-bg-color: #DDD;\n",
              "  }\n",
              "\n",
              "  [theme=dark] .colab-df-quickchart {\n",
              "      --bg-color: #3B4455;\n",
              "      --fill-color: #D2E3FC;\n",
              "      --hover-bg-color: #434B5C;\n",
              "      --hover-fill-color: #FFFFFF;\n",
              "      --disabled-bg-color: #3B4455;\n",
              "      --disabled-fill-color: #666;\n",
              "  }\n",
              "\n",
              "  .colab-df-quickchart {\n",
              "    background-color: var(--bg-color);\n",
              "    border: none;\n",
              "    border-radius: 50%;\n",
              "    cursor: pointer;\n",
              "    display: none;\n",
              "    fill: var(--fill-color);\n",
              "    height: 32px;\n",
              "    padding: 0;\n",
              "    width: 32px;\n",
              "  }\n",
              "\n",
              "  .colab-df-quickchart:hover {\n",
              "    background-color: var(--hover-bg-color);\n",
              "    box-shadow: 0 1px 2px rgba(60, 64, 67, 0.3), 0 1px 3px 1px rgba(60, 64, 67, 0.15);\n",
              "    fill: var(--button-hover-fill-color);\n",
              "  }\n",
              "\n",
              "  .colab-df-quickchart-complete:disabled,\n",
              "  .colab-df-quickchart-complete:disabled:hover {\n",
              "    background-color: var(--disabled-bg-color);\n",
              "    fill: var(--disabled-fill-color);\n",
              "    box-shadow: none;\n",
              "  }\n",
              "\n",
              "  .colab-df-spinner {\n",
              "    border: 2px solid var(--fill-color);\n",
              "    border-color: transparent;\n",
              "    border-bottom-color: var(--fill-color);\n",
              "    animation:\n",
              "      spin 1s steps(1) infinite;\n",
              "  }\n",
              "\n",
              "  @keyframes spin {\n",
              "    0% {\n",
              "      border-color: transparent;\n",
              "      border-bottom-color: var(--fill-color);\n",
              "      border-left-color: var(--fill-color);\n",
              "    }\n",
              "    20% {\n",
              "      border-color: transparent;\n",
              "      border-left-color: var(--fill-color);\n",
              "      border-top-color: var(--fill-color);\n",
              "    }\n",
              "    30% {\n",
              "      border-color: transparent;\n",
              "      border-left-color: var(--fill-color);\n",
              "      border-top-color: var(--fill-color);\n",
              "      border-right-color: var(--fill-color);\n",
              "    }\n",
              "    40% {\n",
              "      border-color: transparent;\n",
              "      border-right-color: var(--fill-color);\n",
              "      border-top-color: var(--fill-color);\n",
              "    }\n",
              "    60% {\n",
              "      border-color: transparent;\n",
              "      border-right-color: var(--fill-color);\n",
              "    }\n",
              "    80% {\n",
              "      border-color: transparent;\n",
              "      border-right-color: var(--fill-color);\n",
              "      border-bottom-color: var(--fill-color);\n",
              "    }\n",
              "    90% {\n",
              "      border-color: transparent;\n",
              "      border-bottom-color: var(--fill-color);\n",
              "    }\n",
              "  }\n",
              "</style>\n",
              "\n",
              "  <script>\n",
              "    async function quickchart(key) {\n",
              "      const quickchartButtonEl =\n",
              "        document.querySelector('#' + key + ' button');\n",
              "      quickchartButtonEl.disabled = true;  // To prevent multiple clicks.\n",
              "      quickchartButtonEl.classList.add('colab-df-spinner');\n",
              "      try {\n",
              "        const charts = await google.colab.kernel.invokeFunction(\n",
              "            'suggestCharts', [key], {});\n",
              "      } catch (error) {\n",
              "        console.error('Error during call to suggestCharts:', error);\n",
              "      }\n",
              "      quickchartButtonEl.classList.remove('colab-df-spinner');\n",
              "      quickchartButtonEl.classList.add('colab-df-quickchart-complete');\n",
              "    }\n",
              "    (() => {\n",
              "      let quickchartButtonEl =\n",
              "        document.querySelector('#df-5a3cf87e-e114-4be8-9a20-2f70f20fa7dc button');\n",
              "      quickchartButtonEl.style.display =\n",
              "        google.colab.kernel.accessAllowed ? 'block' : 'none';\n",
              "    })();\n",
              "  </script>\n",
              "</div>\n",
              "\n",
              "    </div>\n",
              "  </div>\n"
            ],
            "application/vnd.google.colaboratory.intrinsic+json": {
              "type": "dataframe",
              "variable_name": "player_data",
              "summary": "{\n  \"name\": \"player_data\",\n  \"rows\": 482,\n  \"fields\": [\n    {\n      \"column\": \"appearance_id\",\n      \"properties\": {\n        \"dtype\": \"string\",\n        \"num_unique_values\": 482,\n        \"samples\": [\n          \"3433456_8198\",\n          \"3912583_8198\",\n          \"2594669_8198\"\n        ],\n        \"semantic_type\": \"\",\n        \"description\": \"\"\n      }\n    },\n    {\n      \"column\": \"game_id\",\n      \"properties\": {\n        \"dtype\": \"number\",\n        \"std\": 468585,\n        \"min\": 2242834,\n        \"max\": 3912592,\n        \"num_unique_values\": 482,\n        \"samples\": [\n          3433456,\n          3912583,\n          2594669\n        ],\n        \"semantic_type\": \"\",\n        \"description\": \"\"\n      }\n    },\n    {\n      \"column\": \"player_id\",\n      \"properties\": {\n        \"dtype\": \"number\",\n        \"std\": 0,\n        \"min\": 8198,\n        \"max\": 8198,\n        \"num_unique_values\": 1,\n        \"samples\": [\n          8198\n        ],\n        \"semantic_type\": \"\",\n        \"description\": \"\"\n      }\n    },\n    {\n      \"column\": \"player_club_id\",\n      \"properties\": {\n        \"dtype\": \"number\",\n        \"std\": 174,\n        \"min\": 418,\n        \"max\": 985,\n        \"num_unique_values\": 3,\n        \"samples\": [\n          418\n        ],\n        \"semantic_type\": \"\",\n        \"description\": \"\"\n      }\n    },\n    {\n      \"column\": \"player_current_club_id\",\n      \"properties\": {\n        \"dtype\": \"number\",\n        \"std\": 0,\n        \"min\": 985,\n        \"max\": 985,\n        \"num_unique_values\": 1,\n        \"samples\": [\n          985\n        ],\n        \"semantic_type\": \"\",\n        \"description\": \"\"\n      }\n    },\n    {\n      \"column\": \"date\",\n      \"properties\": {\n        \"dtype\": \"date\",\n        \"min\": \"2012-08-19 00:00:00\",\n        \"max\": \"2022-11-06 00:00:00\",\n        \"num_unique_values\": 482,\n        \"samples\": [\n          \"2021-03-21 00:00:00\"\n        ],\n        \"semantic_type\": \"\",\n        \"description\": \"\"\n      }\n    },\n    {\n      \"column\": \"player_name\",\n      \"properties\": {\n        \"dtype\": \"category\",\n        \"num_unique_values\": 1,\n        \"samples\": [\n          \"Cristiano Ronaldo\"\n        ],\n        \"semantic_type\": \"\",\n        \"description\": \"\"\n      }\n    },\n    {\n      \"column\": \"competition_id\",\n      \"properties\": {\n        \"dtype\": \"category\",\n        \"num_unique_values\": 12,\n        \"samples\": [\n          \"FAC\"\n        ],\n        \"semantic_type\": \"\",\n        \"description\": \"\"\n      }\n    },\n    {\n      \"column\": \"yellow_cards\",\n      \"properties\": {\n        \"dtype\": \"number\",\n        \"std\": 0,\n        \"min\": 0,\n        \"max\": 2,\n        \"num_unique_values\": 3,\n        \"samples\": [\n          0\n        ],\n        \"semantic_type\": \"\",\n        \"description\": \"\"\n      }\n    },\n    {\n      \"column\": \"red_cards\",\n      \"properties\": {\n        \"dtype\": \"number\",\n        \"std\": 0,\n        \"min\": 0,\n        \"max\": 1,\n        \"num_unique_values\": 2,\n        \"samples\": [\n          1\n        ],\n        \"semantic_type\": \"\",\n        \"description\": \"\"\n      }\n    },\n    {\n      \"column\": \"goals\",\n      \"properties\": {\n        \"dtype\": \"number\",\n        \"std\": 0,\n        \"min\": 0,\n        \"max\": 5,\n        \"num_unique_values\": 6,\n        \"samples\": [\n          0\n        ],\n        \"semantic_type\": \"\",\n        \"description\": \"\"\n      }\n    },\n    {\n      \"column\": \"assists\",\n      \"properties\": {\n        \"dtype\": \"number\",\n        \"std\": 0,\n        \"min\": 0,\n        \"max\": 2,\n        \"num_unique_values\": 3,\n        \"samples\": [\n          0\n        ],\n        \"semantic_type\": \"\",\n        \"description\": \"\"\n      }\n    },\n    {\n      \"column\": \"minutes_played\",\n      \"properties\": {\n        \"dtype\": \"number\",\n        \"std\": 15,\n        \"min\": 4,\n        \"max\": 120,\n        \"num_unique_values\": 45,\n        \"samples\": [\n          88\n        ],\n        \"semantic_type\": \"\",\n        \"description\": \"\"\n      }\n    },\n    {\n      \"column\": \"year\",\n      \"properties\": {\n        \"dtype\": \"int32\",\n        \"num_unique_values\": 11,\n        \"samples\": [\n          2017\n        ],\n        \"semantic_type\": \"\",\n        \"description\": \"\"\n      }\n    },\n    {\n      \"column\": \"name_x\",\n      \"properties\": {\n        \"dtype\": \"category\",\n        \"num_unique_values\": 3,\n        \"samples\": [\n          \"Real Madrid Club de F\\u00fatbol\"\n        ],\n        \"semantic_type\": \"\",\n        \"description\": \"\"\n      }\n    },\n    {\n      \"column\": \"country_name_x\",\n      \"properties\": {\n        \"dtype\": \"category\",\n        \"num_unique_values\": 3,\n        \"samples\": [\n          \"Spain\"\n        ],\n        \"semantic_type\": \"\",\n        \"description\": \"\"\n      }\n    },\n    {\n      \"column\": \"club_id\",\n      \"properties\": {\n        \"dtype\": \"number\",\n        \"std\": 174,\n        \"min\": 418,\n        \"max\": 985,\n        \"num_unique_values\": 3,\n        \"samples\": [\n          418\n        ],\n        \"semantic_type\": \"\",\n        \"description\": \"\"\n      }\n    },\n    {\n      \"column\": \"name_y\",\n      \"properties\": {\n        \"dtype\": \"category\",\n        \"num_unique_values\": 3,\n        \"samples\": [\n          \"Real Madrid Club de F\\u00fatbol\"\n        ],\n        \"semantic_type\": \"\",\n        \"description\": \"\"\n      }\n    },\n    {\n      \"column\": \"domestic_competition_id\",\n      \"properties\": {\n        \"dtype\": \"category\",\n        \"num_unique_values\": 3,\n        \"samples\": [\n          \"ES1\"\n        ],\n        \"semantic_type\": \"\",\n        \"description\": \"\"\n      }\n    },\n    {\n      \"column\": \"country_name_y\",\n      \"properties\": {\n        \"dtype\": \"category\",\n        \"num_unique_values\": 3,\n        \"samples\": [\n          \"Spain\"\n        ],\n        \"semantic_type\": \"\",\n        \"description\": \"\"\n      }\n    }\n  ]\n}"
            }
          },
          "metadata": {},
          "execution_count": 80
        }
      ]
    },
    {
      "cell_type": "code",
      "source": [
        "player_data.head()"
      ],
      "metadata": {
        "colab": {
          "base_uri": "https://localhost:8080/",
          "height": 400
        },
        "id": "ChSIhecXcP3E",
        "outputId": "a9a9eb0e-80c2-4f71-a5e8-2199faf0ebc7"
      },
      "execution_count": null,
      "outputs": [
        {
          "output_type": "execute_result",
          "data": {
            "text/plain": [
              "  appearance_id  game_id  player_id  player_club_id  player_current_club_id  \\\n",
              "0  2244382_8198  2244382       8198             418                     985   \n",
              "1  2244388_8198  2244388       8198             418                     985   \n",
              "2  2242834_8198  2242834       8198             418                     985   \n",
              "3  2244389_8198  2244389       8198             418                     985   \n",
              "4  2242882_8198  2242882       8198             418                     985   \n",
              "\n",
              "        date        player_name competition_id  yellow_cards  red_cards  \\\n",
              "0 2012-08-19  Cristiano Ronaldo            ES1             0          0   \n",
              "1 2012-08-22  Cristiano Ronaldo            SUC             0          0   \n",
              "2 2012-08-26  Cristiano Ronaldo            ES1             0          0   \n",
              "3 2012-08-29  Cristiano Ronaldo            SUC             0          0   \n",
              "4 2012-09-02  Cristiano Ronaldo            ES1             0          0   \n",
              "\n",
              "   goals  assists  minutes_played  year  club_id domestic_competition_id  \\\n",
              "0      0        0              90  2012      418                     ES1   \n",
              "1      1        0              90  2012      418                     ES1   \n",
              "2      0        0              90  2012      418                     ES1   \n",
              "3      1        0              90  2012      418                     ES1   \n",
              "4      2        0              63  2012      418                     ES1   \n",
              "\n",
              "  Country_name                   Club_name  \n",
              "0        Spain  Real Madrid Club de Fútbol  \n",
              "1        Spain  Real Madrid Club de Fútbol  \n",
              "2        Spain  Real Madrid Club de Fútbol  \n",
              "3        Spain  Real Madrid Club de Fútbol  \n",
              "4        Spain  Real Madrid Club de Fútbol  "
            ],
            "text/html": [
              "\n",
              "  <div id=\"df-541cdc34-0132-4094-b3ad-0bb5c2216ba1\" class=\"colab-df-container\">\n",
              "    <div>\n",
              "<style scoped>\n",
              "    .dataframe tbody tr th:only-of-type {\n",
              "        vertical-align: middle;\n",
              "    }\n",
              "\n",
              "    .dataframe tbody tr th {\n",
              "        vertical-align: top;\n",
              "    }\n",
              "\n",
              "    .dataframe thead th {\n",
              "        text-align: right;\n",
              "    }\n",
              "</style>\n",
              "<table border=\"1\" class=\"dataframe\">\n",
              "  <thead>\n",
              "    <tr style=\"text-align: right;\">\n",
              "      <th></th>\n",
              "      <th>appearance_id</th>\n",
              "      <th>game_id</th>\n",
              "      <th>player_id</th>\n",
              "      <th>player_club_id</th>\n",
              "      <th>player_current_club_id</th>\n",
              "      <th>date</th>\n",
              "      <th>player_name</th>\n",
              "      <th>competition_id</th>\n",
              "      <th>yellow_cards</th>\n",
              "      <th>red_cards</th>\n",
              "      <th>goals</th>\n",
              "      <th>assists</th>\n",
              "      <th>minutes_played</th>\n",
              "      <th>year</th>\n",
              "      <th>club_id</th>\n",
              "      <th>domestic_competition_id</th>\n",
              "      <th>Country_name</th>\n",
              "      <th>Club_name</th>\n",
              "    </tr>\n",
              "  </thead>\n",
              "  <tbody>\n",
              "    <tr>\n",
              "      <th>0</th>\n",
              "      <td>2244382_8198</td>\n",
              "      <td>2244382</td>\n",
              "      <td>8198</td>\n",
              "      <td>418</td>\n",
              "      <td>985</td>\n",
              "      <td>2012-08-19</td>\n",
              "      <td>Cristiano Ronaldo</td>\n",
              "      <td>ES1</td>\n",
              "      <td>0</td>\n",
              "      <td>0</td>\n",
              "      <td>0</td>\n",
              "      <td>0</td>\n",
              "      <td>90</td>\n",
              "      <td>2012</td>\n",
              "      <td>418</td>\n",
              "      <td>ES1</td>\n",
              "      <td>Spain</td>\n",
              "      <td>Real Madrid Club de Fútbol</td>\n",
              "    </tr>\n",
              "    <tr>\n",
              "      <th>1</th>\n",
              "      <td>2244388_8198</td>\n",
              "      <td>2244388</td>\n",
              "      <td>8198</td>\n",
              "      <td>418</td>\n",
              "      <td>985</td>\n",
              "      <td>2012-08-22</td>\n",
              "      <td>Cristiano Ronaldo</td>\n",
              "      <td>SUC</td>\n",
              "      <td>0</td>\n",
              "      <td>0</td>\n",
              "      <td>1</td>\n",
              "      <td>0</td>\n",
              "      <td>90</td>\n",
              "      <td>2012</td>\n",
              "      <td>418</td>\n",
              "      <td>ES1</td>\n",
              "      <td>Spain</td>\n",
              "      <td>Real Madrid Club de Fútbol</td>\n",
              "    </tr>\n",
              "    <tr>\n",
              "      <th>2</th>\n",
              "      <td>2242834_8198</td>\n",
              "      <td>2242834</td>\n",
              "      <td>8198</td>\n",
              "      <td>418</td>\n",
              "      <td>985</td>\n",
              "      <td>2012-08-26</td>\n",
              "      <td>Cristiano Ronaldo</td>\n",
              "      <td>ES1</td>\n",
              "      <td>0</td>\n",
              "      <td>0</td>\n",
              "      <td>0</td>\n",
              "      <td>0</td>\n",
              "      <td>90</td>\n",
              "      <td>2012</td>\n",
              "      <td>418</td>\n",
              "      <td>ES1</td>\n",
              "      <td>Spain</td>\n",
              "      <td>Real Madrid Club de Fútbol</td>\n",
              "    </tr>\n",
              "    <tr>\n",
              "      <th>3</th>\n",
              "      <td>2244389_8198</td>\n",
              "      <td>2244389</td>\n",
              "      <td>8198</td>\n",
              "      <td>418</td>\n",
              "      <td>985</td>\n",
              "      <td>2012-08-29</td>\n",
              "      <td>Cristiano Ronaldo</td>\n",
              "      <td>SUC</td>\n",
              "      <td>0</td>\n",
              "      <td>0</td>\n",
              "      <td>1</td>\n",
              "      <td>0</td>\n",
              "      <td>90</td>\n",
              "      <td>2012</td>\n",
              "      <td>418</td>\n",
              "      <td>ES1</td>\n",
              "      <td>Spain</td>\n",
              "      <td>Real Madrid Club de Fútbol</td>\n",
              "    </tr>\n",
              "    <tr>\n",
              "      <th>4</th>\n",
              "      <td>2242882_8198</td>\n",
              "      <td>2242882</td>\n",
              "      <td>8198</td>\n",
              "      <td>418</td>\n",
              "      <td>985</td>\n",
              "      <td>2012-09-02</td>\n",
              "      <td>Cristiano Ronaldo</td>\n",
              "      <td>ES1</td>\n",
              "      <td>0</td>\n",
              "      <td>0</td>\n",
              "      <td>2</td>\n",
              "      <td>0</td>\n",
              "      <td>63</td>\n",
              "      <td>2012</td>\n",
              "      <td>418</td>\n",
              "      <td>ES1</td>\n",
              "      <td>Spain</td>\n",
              "      <td>Real Madrid Club de Fútbol</td>\n",
              "    </tr>\n",
              "  </tbody>\n",
              "</table>\n",
              "</div>\n",
              "    <div class=\"colab-df-buttons\">\n",
              "\n",
              "  <div class=\"colab-df-container\">\n",
              "    <button class=\"colab-df-convert\" onclick=\"convertToInteractive('df-541cdc34-0132-4094-b3ad-0bb5c2216ba1')\"\n",
              "            title=\"Convert this dataframe to an interactive table.\"\n",
              "            style=\"display:none;\">\n",
              "\n",
              "  <svg xmlns=\"http://www.w3.org/2000/svg\" height=\"24px\" viewBox=\"0 -960 960 960\">\n",
              "    <path d=\"M120-120v-720h720v720H120Zm60-500h600v-160H180v160Zm220 220h160v-160H400v160Zm0 220h160v-160H400v160ZM180-400h160v-160H180v160Zm440 0h160v-160H620v160ZM180-180h160v-160H180v160Zm440 0h160v-160H620v160Z\"/>\n",
              "  </svg>\n",
              "    </button>\n",
              "\n",
              "  <style>\n",
              "    .colab-df-container {\n",
              "      display:flex;\n",
              "      gap: 12px;\n",
              "    }\n",
              "\n",
              "    .colab-df-convert {\n",
              "      background-color: #E8F0FE;\n",
              "      border: none;\n",
              "      border-radius: 50%;\n",
              "      cursor: pointer;\n",
              "      display: none;\n",
              "      fill: #1967D2;\n",
              "      height: 32px;\n",
              "      padding: 0 0 0 0;\n",
              "      width: 32px;\n",
              "    }\n",
              "\n",
              "    .colab-df-convert:hover {\n",
              "      background-color: #E2EBFA;\n",
              "      box-shadow: 0px 1px 2px rgba(60, 64, 67, 0.3), 0px 1px 3px 1px rgba(60, 64, 67, 0.15);\n",
              "      fill: #174EA6;\n",
              "    }\n",
              "\n",
              "    .colab-df-buttons div {\n",
              "      margin-bottom: 4px;\n",
              "    }\n",
              "\n",
              "    [theme=dark] .colab-df-convert {\n",
              "      background-color: #3B4455;\n",
              "      fill: #D2E3FC;\n",
              "    }\n",
              "\n",
              "    [theme=dark] .colab-df-convert:hover {\n",
              "      background-color: #434B5C;\n",
              "      box-shadow: 0px 1px 3px 1px rgba(0, 0, 0, 0.15);\n",
              "      filter: drop-shadow(0px 1px 2px rgba(0, 0, 0, 0.3));\n",
              "      fill: #FFFFFF;\n",
              "    }\n",
              "  </style>\n",
              "\n",
              "    <script>\n",
              "      const buttonEl =\n",
              "        document.querySelector('#df-541cdc34-0132-4094-b3ad-0bb5c2216ba1 button.colab-df-convert');\n",
              "      buttonEl.style.display =\n",
              "        google.colab.kernel.accessAllowed ? 'block' : 'none';\n",
              "\n",
              "      async function convertToInteractive(key) {\n",
              "        const element = document.querySelector('#df-541cdc34-0132-4094-b3ad-0bb5c2216ba1');\n",
              "        const dataTable =\n",
              "          await google.colab.kernel.invokeFunction('convertToInteractive',\n",
              "                                                    [key], {});\n",
              "        if (!dataTable) return;\n",
              "\n",
              "        const docLinkHtml = 'Like what you see? Visit the ' +\n",
              "          '<a target=\"_blank\" href=https://colab.research.google.com/notebooks/data_table.ipynb>data table notebook</a>'\n",
              "          + ' to learn more about interactive tables.';\n",
              "        element.innerHTML = '';\n",
              "        dataTable['output_type'] = 'display_data';\n",
              "        await google.colab.output.renderOutput(dataTable, element);\n",
              "        const docLink = document.createElement('div');\n",
              "        docLink.innerHTML = docLinkHtml;\n",
              "        element.appendChild(docLink);\n",
              "      }\n",
              "    </script>\n",
              "  </div>\n",
              "\n",
              "\n",
              "<div id=\"df-1f45577c-abcb-467f-a80b-49a525bcc0fb\">\n",
              "  <button class=\"colab-df-quickchart\" onclick=\"quickchart('df-1f45577c-abcb-467f-a80b-49a525bcc0fb')\"\n",
              "            title=\"Suggest charts\"\n",
              "            style=\"display:none;\">\n",
              "\n",
              "<svg xmlns=\"http://www.w3.org/2000/svg\" height=\"24px\"viewBox=\"0 0 24 24\"\n",
              "     width=\"24px\">\n",
              "    <g>\n",
              "        <path d=\"M19 3H5c-1.1 0-2 .9-2 2v14c0 1.1.9 2 2 2h14c1.1 0 2-.9 2-2V5c0-1.1-.9-2-2-2zM9 17H7v-7h2v7zm4 0h-2V7h2v10zm4 0h-2v-4h2v4z\"/>\n",
              "    </g>\n",
              "</svg>\n",
              "  </button>\n",
              "\n",
              "<style>\n",
              "  .colab-df-quickchart {\n",
              "      --bg-color: #E8F0FE;\n",
              "      --fill-color: #1967D2;\n",
              "      --hover-bg-color: #E2EBFA;\n",
              "      --hover-fill-color: #174EA6;\n",
              "      --disabled-fill-color: #AAA;\n",
              "      --disabled-bg-color: #DDD;\n",
              "  }\n",
              "\n",
              "  [theme=dark] .colab-df-quickchart {\n",
              "      --bg-color: #3B4455;\n",
              "      --fill-color: #D2E3FC;\n",
              "      --hover-bg-color: #434B5C;\n",
              "      --hover-fill-color: #FFFFFF;\n",
              "      --disabled-bg-color: #3B4455;\n",
              "      --disabled-fill-color: #666;\n",
              "  }\n",
              "\n",
              "  .colab-df-quickchart {\n",
              "    background-color: var(--bg-color);\n",
              "    border: none;\n",
              "    border-radius: 50%;\n",
              "    cursor: pointer;\n",
              "    display: none;\n",
              "    fill: var(--fill-color);\n",
              "    height: 32px;\n",
              "    padding: 0;\n",
              "    width: 32px;\n",
              "  }\n",
              "\n",
              "  .colab-df-quickchart:hover {\n",
              "    background-color: var(--hover-bg-color);\n",
              "    box-shadow: 0 1px 2px rgba(60, 64, 67, 0.3), 0 1px 3px 1px rgba(60, 64, 67, 0.15);\n",
              "    fill: var(--button-hover-fill-color);\n",
              "  }\n",
              "\n",
              "  .colab-df-quickchart-complete:disabled,\n",
              "  .colab-df-quickchart-complete:disabled:hover {\n",
              "    background-color: var(--disabled-bg-color);\n",
              "    fill: var(--disabled-fill-color);\n",
              "    box-shadow: none;\n",
              "  }\n",
              "\n",
              "  .colab-df-spinner {\n",
              "    border: 2px solid var(--fill-color);\n",
              "    border-color: transparent;\n",
              "    border-bottom-color: var(--fill-color);\n",
              "    animation:\n",
              "      spin 1s steps(1) infinite;\n",
              "  }\n",
              "\n",
              "  @keyframes spin {\n",
              "    0% {\n",
              "      border-color: transparent;\n",
              "      border-bottom-color: var(--fill-color);\n",
              "      border-left-color: var(--fill-color);\n",
              "    }\n",
              "    20% {\n",
              "      border-color: transparent;\n",
              "      border-left-color: var(--fill-color);\n",
              "      border-top-color: var(--fill-color);\n",
              "    }\n",
              "    30% {\n",
              "      border-color: transparent;\n",
              "      border-left-color: var(--fill-color);\n",
              "      border-top-color: var(--fill-color);\n",
              "      border-right-color: var(--fill-color);\n",
              "    }\n",
              "    40% {\n",
              "      border-color: transparent;\n",
              "      border-right-color: var(--fill-color);\n",
              "      border-top-color: var(--fill-color);\n",
              "    }\n",
              "    60% {\n",
              "      border-color: transparent;\n",
              "      border-right-color: var(--fill-color);\n",
              "    }\n",
              "    80% {\n",
              "      border-color: transparent;\n",
              "      border-right-color: var(--fill-color);\n",
              "      border-bottom-color: var(--fill-color);\n",
              "    }\n",
              "    90% {\n",
              "      border-color: transparent;\n",
              "      border-bottom-color: var(--fill-color);\n",
              "    }\n",
              "  }\n",
              "</style>\n",
              "\n",
              "  <script>\n",
              "    async function quickchart(key) {\n",
              "      const quickchartButtonEl =\n",
              "        document.querySelector('#' + key + ' button');\n",
              "      quickchartButtonEl.disabled = true;  // To prevent multiple clicks.\n",
              "      quickchartButtonEl.classList.add('colab-df-spinner');\n",
              "      try {\n",
              "        const charts = await google.colab.kernel.invokeFunction(\n",
              "            'suggestCharts', [key], {});\n",
              "      } catch (error) {\n",
              "        console.error('Error during call to suggestCharts:', error);\n",
              "      }\n",
              "      quickchartButtonEl.classList.remove('colab-df-spinner');\n",
              "      quickchartButtonEl.classList.add('colab-df-quickchart-complete');\n",
              "    }\n",
              "    (() => {\n",
              "      let quickchartButtonEl =\n",
              "        document.querySelector('#df-1f45577c-abcb-467f-a80b-49a525bcc0fb button');\n",
              "      quickchartButtonEl.style.display =\n",
              "        google.colab.kernel.accessAllowed ? 'block' : 'none';\n",
              "    })();\n",
              "  </script>\n",
              "</div>\n",
              "\n",
              "    </div>\n",
              "  </div>\n"
            ],
            "application/vnd.google.colaboratory.intrinsic+json": {
              "type": "dataframe",
              "variable_name": "player_data",
              "summary": "{\n  \"name\": \"player_data\",\n  \"rows\": 482,\n  \"fields\": [\n    {\n      \"column\": \"appearance_id\",\n      \"properties\": {\n        \"dtype\": \"string\",\n        \"num_unique_values\": 482,\n        \"samples\": [\n          \"3433456_8198\",\n          \"3912583_8198\",\n          \"2594669_8198\"\n        ],\n        \"semantic_type\": \"\",\n        \"description\": \"\"\n      }\n    },\n    {\n      \"column\": \"game_id\",\n      \"properties\": {\n        \"dtype\": \"number\",\n        \"std\": 468585,\n        \"min\": 2242834,\n        \"max\": 3912592,\n        \"num_unique_values\": 482,\n        \"samples\": [\n          3433456,\n          3912583,\n          2594669\n        ],\n        \"semantic_type\": \"\",\n        \"description\": \"\"\n      }\n    },\n    {\n      \"column\": \"player_id\",\n      \"properties\": {\n        \"dtype\": \"number\",\n        \"std\": 0,\n        \"min\": 8198,\n        \"max\": 8198,\n        \"num_unique_values\": 1,\n        \"samples\": [\n          8198\n        ],\n        \"semantic_type\": \"\",\n        \"description\": \"\"\n      }\n    },\n    {\n      \"column\": \"player_club_id\",\n      \"properties\": {\n        \"dtype\": \"number\",\n        \"std\": 174,\n        \"min\": 418,\n        \"max\": 985,\n        \"num_unique_values\": 3,\n        \"samples\": [\n          418\n        ],\n        \"semantic_type\": \"\",\n        \"description\": \"\"\n      }\n    },\n    {\n      \"column\": \"player_current_club_id\",\n      \"properties\": {\n        \"dtype\": \"number\",\n        \"std\": 0,\n        \"min\": 985,\n        \"max\": 985,\n        \"num_unique_values\": 1,\n        \"samples\": [\n          985\n        ],\n        \"semantic_type\": \"\",\n        \"description\": \"\"\n      }\n    },\n    {\n      \"column\": \"date\",\n      \"properties\": {\n        \"dtype\": \"date\",\n        \"min\": \"2012-08-19 00:00:00\",\n        \"max\": \"2022-11-06 00:00:00\",\n        \"num_unique_values\": 482,\n        \"samples\": [\n          \"2021-03-21 00:00:00\"\n        ],\n        \"semantic_type\": \"\",\n        \"description\": \"\"\n      }\n    },\n    {\n      \"column\": \"player_name\",\n      \"properties\": {\n        \"dtype\": \"category\",\n        \"num_unique_values\": 1,\n        \"samples\": [\n          \"Cristiano Ronaldo\"\n        ],\n        \"semantic_type\": \"\",\n        \"description\": \"\"\n      }\n    },\n    {\n      \"column\": \"competition_id\",\n      \"properties\": {\n        \"dtype\": \"category\",\n        \"num_unique_values\": 12,\n        \"samples\": [\n          \"FAC\"\n        ],\n        \"semantic_type\": \"\",\n        \"description\": \"\"\n      }\n    },\n    {\n      \"column\": \"yellow_cards\",\n      \"properties\": {\n        \"dtype\": \"number\",\n        \"std\": 0,\n        \"min\": 0,\n        \"max\": 2,\n        \"num_unique_values\": 3,\n        \"samples\": [\n          0\n        ],\n        \"semantic_type\": \"\",\n        \"description\": \"\"\n      }\n    },\n    {\n      \"column\": \"red_cards\",\n      \"properties\": {\n        \"dtype\": \"number\",\n        \"std\": 0,\n        \"min\": 0,\n        \"max\": 1,\n        \"num_unique_values\": 2,\n        \"samples\": [\n          1\n        ],\n        \"semantic_type\": \"\",\n        \"description\": \"\"\n      }\n    },\n    {\n      \"column\": \"goals\",\n      \"properties\": {\n        \"dtype\": \"number\",\n        \"std\": 0,\n        \"min\": 0,\n        \"max\": 5,\n        \"num_unique_values\": 6,\n        \"samples\": [\n          0\n        ],\n        \"semantic_type\": \"\",\n        \"description\": \"\"\n      }\n    },\n    {\n      \"column\": \"assists\",\n      \"properties\": {\n        \"dtype\": \"number\",\n        \"std\": 0,\n        \"min\": 0,\n        \"max\": 2,\n        \"num_unique_values\": 3,\n        \"samples\": [\n          0\n        ],\n        \"semantic_type\": \"\",\n        \"description\": \"\"\n      }\n    },\n    {\n      \"column\": \"minutes_played\",\n      \"properties\": {\n        \"dtype\": \"number\",\n        \"std\": 15,\n        \"min\": 4,\n        \"max\": 120,\n        \"num_unique_values\": 45,\n        \"samples\": [\n          88\n        ],\n        \"semantic_type\": \"\",\n        \"description\": \"\"\n      }\n    },\n    {\n      \"column\": \"year\",\n      \"properties\": {\n        \"dtype\": \"int32\",\n        \"num_unique_values\": 11,\n        \"samples\": [\n          2017\n        ],\n        \"semantic_type\": \"\",\n        \"description\": \"\"\n      }\n    },\n    {\n      \"column\": \"club_id\",\n      \"properties\": {\n        \"dtype\": \"number\",\n        \"std\": 174,\n        \"min\": 418,\n        \"max\": 985,\n        \"num_unique_values\": 3,\n        \"samples\": [\n          418\n        ],\n        \"semantic_type\": \"\",\n        \"description\": \"\"\n      }\n    },\n    {\n      \"column\": \"domestic_competition_id\",\n      \"properties\": {\n        \"dtype\": \"category\",\n        \"num_unique_values\": 3,\n        \"samples\": [\n          \"ES1\"\n        ],\n        \"semantic_type\": \"\",\n        \"description\": \"\"\n      }\n    },\n    {\n      \"column\": \"Country_name\",\n      \"properties\": {\n        \"dtype\": \"category\",\n        \"num_unique_values\": 3,\n        \"samples\": [\n          \"Spain\"\n        ],\n        \"semantic_type\": \"\",\n        \"description\": \"\"\n      }\n    },\n    {\n      \"column\": \"Club_name\",\n      \"properties\": {\n        \"dtype\": \"category\",\n        \"num_unique_values\": 3,\n        \"samples\": [\n          \"Real Madrid Club de F\\u00fatbol\"\n        ],\n        \"semantic_type\": \"\",\n        \"description\": \"\"\n      }\n    }\n  ]\n}"
            }
          },
          "metadata": {},
          "execution_count": 89
        }
      ]
    },
    {
      "cell_type": "code",
      "source": [
        "df5= player_data"
      ],
      "metadata": {
        "id": "ZzEfifjfcrRa"
      },
      "execution_count": null,
      "outputs": []
    },
    {
      "cell_type": "code",
      "source": [
        "import pandas as pd\n",
        "import plotly.express as px\n",
        "\n",
        "\n",
        "specific_player_id = 8198\n",
        "\n",
        "specific_player_data = df5[df5['player_id'] == specific_player_id]\n",
        "\n",
        "\n",
        "goals_per_country = specific_player_data.groupby('Country_name')['goals'].sum().reset_index()\n",
        "\n",
        "specific_player_data = specific_player_data.merge(df_final, left_on='player_club_id', right_on='club_id', how='left')\n",
        "\n",
        "goals_per_club = specific_player_data.groupby(['Country_name', 'Club_name'])['goals'].sum().reset_index()\n",
        "\n",
        "\n",
        "fig = px.bar(goals_per_country, x='Country_name', y='goals',\n",
        "             title=f'Total Goals Scored by Player {specific_player_id} in Each Country',\n",
        "             labels={'goals': 'Total Goals', 'Country_name': 'Country'},\n",
        "             hover_name='Country_name', hover_data={'Country_name': True, 'goals': True},\n",
        "             text='goals', height=600)\n",
        "\n",
        "fig.update_traces(texttemplate='%{text}', textposition='outside')\n",
        "\n",
        "fig.update_layout(xaxis_title='Country', yaxis_title='Total Goals',\n",
        "                  hoverlabel=dict(bgcolor=\"white\", font_size=12, font_family=\"Rockwell\"))\n",
        "\n",
        "fig.show()\n"
      ],
      "metadata": {
        "colab": {
          "base_uri": "https://localhost:8080/",
          "height": 617
        },
        "id": "YxgcBPmle57J",
        "outputId": "cbf7ca5a-d533-4d8a-8d19-f0182887d407"
      },
      "execution_count": null,
      "outputs": [
        {
          "output_type": "display_data",
          "data": {
            "text/html": [
              "<html>\n",
              "<head><meta charset=\"utf-8\" /></head>\n",
              "<body>\n",
              "    <div>            <script src=\"https://cdnjs.cloudflare.com/ajax/libs/mathjax/2.7.5/MathJax.js?config=TeX-AMS-MML_SVG\"></script><script type=\"text/javascript\">if (window.MathJax && window.MathJax.Hub && window.MathJax.Hub.Config) {window.MathJax.Hub.Config({SVG: {font: \"STIX-Web\"}});}</script>                <script type=\"text/javascript\">window.PlotlyConfig = {MathJaxConfig: 'local'};</script>\n",
              "        <script charset=\"utf-8\" src=\"https://cdn.plot.ly/plotly-2.24.1.min.js\"></script>                <div id=\"8f13c012-c7e4-4142-a305-2b225284e171\" class=\"plotly-graph-div\" style=\"height:600px; width:100%;\"></div>            <script type=\"text/javascript\">                                    window.PLOTLYENV=window.PLOTLYENV || {};                                    if (document.getElementById(\"8f13c012-c7e4-4142-a305-2b225284e171\")) {                    Plotly.newPlot(                        \"8f13c012-c7e4-4142-a305-2b225284e171\",                        [{\"alignmentgroup\":\"True\",\"hovertemplate\":\"\\u003cb\\u003e%{hovertext}\\u003c\\u002fb\\u003e\\u003cbr\\u003e\\u003cbr\\u003eCountry=%{x}\\u003cbr\\u003eTotal Goals=%{text}\\u003cextra\\u003e\\u003c\\u002fextra\\u003e\",\"hovertext\":[\"England\",\"Italy\",\"Spain\"],\"legendgroup\":\"\",\"marker\":{\"color\":\"#636efa\",\"pattern\":{\"shape\":\"\"}},\"name\":\"\",\"offsetgroup\":\"\",\"orientation\":\"v\",\"showlegend\":false,\"text\":[27.0,101.0,304.0],\"textposition\":\"outside\",\"x\":[\"England\",\"Italy\",\"Spain\"],\"xaxis\":\"x\",\"y\":[27,101,304],\"yaxis\":\"y\",\"type\":\"bar\",\"texttemplate\":\"%{text}\"}],                        {\"template\":{\"data\":{\"histogram2dcontour\":[{\"type\":\"histogram2dcontour\",\"colorbar\":{\"outlinewidth\":0,\"ticks\":\"\"},\"colorscale\":[[0.0,\"#0d0887\"],[0.1111111111111111,\"#46039f\"],[0.2222222222222222,\"#7201a8\"],[0.3333333333333333,\"#9c179e\"],[0.4444444444444444,\"#bd3786\"],[0.5555555555555556,\"#d8576b\"],[0.6666666666666666,\"#ed7953\"],[0.7777777777777778,\"#fb9f3a\"],[0.8888888888888888,\"#fdca26\"],[1.0,\"#f0f921\"]]}],\"choropleth\":[{\"type\":\"choropleth\",\"colorbar\":{\"outlinewidth\":0,\"ticks\":\"\"}}],\"histogram2d\":[{\"type\":\"histogram2d\",\"colorbar\":{\"outlinewidth\":0,\"ticks\":\"\"},\"colorscale\":[[0.0,\"#0d0887\"],[0.1111111111111111,\"#46039f\"],[0.2222222222222222,\"#7201a8\"],[0.3333333333333333,\"#9c179e\"],[0.4444444444444444,\"#bd3786\"],[0.5555555555555556,\"#d8576b\"],[0.6666666666666666,\"#ed7953\"],[0.7777777777777778,\"#fb9f3a\"],[0.8888888888888888,\"#fdca26\"],[1.0,\"#f0f921\"]]}],\"heatmap\":[{\"type\":\"heatmap\",\"colorbar\":{\"outlinewidth\":0,\"ticks\":\"\"},\"colorscale\":[[0.0,\"#0d0887\"],[0.1111111111111111,\"#46039f\"],[0.2222222222222222,\"#7201a8\"],[0.3333333333333333,\"#9c179e\"],[0.4444444444444444,\"#bd3786\"],[0.5555555555555556,\"#d8576b\"],[0.6666666666666666,\"#ed7953\"],[0.7777777777777778,\"#fb9f3a\"],[0.8888888888888888,\"#fdca26\"],[1.0,\"#f0f921\"]]}],\"heatmapgl\":[{\"type\":\"heatmapgl\",\"colorbar\":{\"outlinewidth\":0,\"ticks\":\"\"},\"colorscale\":[[0.0,\"#0d0887\"],[0.1111111111111111,\"#46039f\"],[0.2222222222222222,\"#7201a8\"],[0.3333333333333333,\"#9c179e\"],[0.4444444444444444,\"#bd3786\"],[0.5555555555555556,\"#d8576b\"],[0.6666666666666666,\"#ed7953\"],[0.7777777777777778,\"#fb9f3a\"],[0.8888888888888888,\"#fdca26\"],[1.0,\"#f0f921\"]]}],\"contourcarpet\":[{\"type\":\"contourcarpet\",\"colorbar\":{\"outlinewidth\":0,\"ticks\":\"\"}}],\"contour\":[{\"type\":\"contour\",\"colorbar\":{\"outlinewidth\":0,\"ticks\":\"\"},\"colorscale\":[[0.0,\"#0d0887\"],[0.1111111111111111,\"#46039f\"],[0.2222222222222222,\"#7201a8\"],[0.3333333333333333,\"#9c179e\"],[0.4444444444444444,\"#bd3786\"],[0.5555555555555556,\"#d8576b\"],[0.6666666666666666,\"#ed7953\"],[0.7777777777777778,\"#fb9f3a\"],[0.8888888888888888,\"#fdca26\"],[1.0,\"#f0f921\"]]}],\"surface\":[{\"type\":\"surface\",\"colorbar\":{\"outlinewidth\":0,\"ticks\":\"\"},\"colorscale\":[[0.0,\"#0d0887\"],[0.1111111111111111,\"#46039f\"],[0.2222222222222222,\"#7201a8\"],[0.3333333333333333,\"#9c179e\"],[0.4444444444444444,\"#bd3786\"],[0.5555555555555556,\"#d8576b\"],[0.6666666666666666,\"#ed7953\"],[0.7777777777777778,\"#fb9f3a\"],[0.8888888888888888,\"#fdca26\"],[1.0,\"#f0f921\"]]}],\"mesh3d\":[{\"type\":\"mesh3d\",\"colorbar\":{\"outlinewidth\":0,\"ticks\":\"\"}}],\"scatter\":[{\"fillpattern\":{\"fillmode\":\"overlay\",\"size\":10,\"solidity\":0.2},\"type\":\"scatter\"}],\"parcoords\":[{\"type\":\"parcoords\",\"line\":{\"colorbar\":{\"outlinewidth\":0,\"ticks\":\"\"}}}],\"scatterpolargl\":[{\"type\":\"scatterpolargl\",\"marker\":{\"colorbar\":{\"outlinewidth\":0,\"ticks\":\"\"}}}],\"bar\":[{\"error_x\":{\"color\":\"#2a3f5f\"},\"error_y\":{\"color\":\"#2a3f5f\"},\"marker\":{\"line\":{\"color\":\"#E5ECF6\",\"width\":0.5},\"pattern\":{\"fillmode\":\"overlay\",\"size\":10,\"solidity\":0.2}},\"type\":\"bar\"}],\"scattergeo\":[{\"type\":\"scattergeo\",\"marker\":{\"colorbar\":{\"outlinewidth\":0,\"ticks\":\"\"}}}],\"scatterpolar\":[{\"type\":\"scatterpolar\",\"marker\":{\"colorbar\":{\"outlinewidth\":0,\"ticks\":\"\"}}}],\"histogram\":[{\"marker\":{\"pattern\":{\"fillmode\":\"overlay\",\"size\":10,\"solidity\":0.2}},\"type\":\"histogram\"}],\"scattergl\":[{\"type\":\"scattergl\",\"marker\":{\"colorbar\":{\"outlinewidth\":0,\"ticks\":\"\"}}}],\"scatter3d\":[{\"type\":\"scatter3d\",\"line\":{\"colorbar\":{\"outlinewidth\":0,\"ticks\":\"\"}},\"marker\":{\"colorbar\":{\"outlinewidth\":0,\"ticks\":\"\"}}}],\"scattermapbox\":[{\"type\":\"scattermapbox\",\"marker\":{\"colorbar\":{\"outlinewidth\":0,\"ticks\":\"\"}}}],\"scatterternary\":[{\"type\":\"scatterternary\",\"marker\":{\"colorbar\":{\"outlinewidth\":0,\"ticks\":\"\"}}}],\"scattercarpet\":[{\"type\":\"scattercarpet\",\"marker\":{\"colorbar\":{\"outlinewidth\":0,\"ticks\":\"\"}}}],\"carpet\":[{\"aaxis\":{\"endlinecolor\":\"#2a3f5f\",\"gridcolor\":\"white\",\"linecolor\":\"white\",\"minorgridcolor\":\"white\",\"startlinecolor\":\"#2a3f5f\"},\"baxis\":{\"endlinecolor\":\"#2a3f5f\",\"gridcolor\":\"white\",\"linecolor\":\"white\",\"minorgridcolor\":\"white\",\"startlinecolor\":\"#2a3f5f\"},\"type\":\"carpet\"}],\"table\":[{\"cells\":{\"fill\":{\"color\":\"#EBF0F8\"},\"line\":{\"color\":\"white\"}},\"header\":{\"fill\":{\"color\":\"#C8D4E3\"},\"line\":{\"color\":\"white\"}},\"type\":\"table\"}],\"barpolar\":[{\"marker\":{\"line\":{\"color\":\"#E5ECF6\",\"width\":0.5},\"pattern\":{\"fillmode\":\"overlay\",\"size\":10,\"solidity\":0.2}},\"type\":\"barpolar\"}],\"pie\":[{\"automargin\":true,\"type\":\"pie\"}]},\"layout\":{\"autotypenumbers\":\"strict\",\"colorway\":[\"#636efa\",\"#EF553B\",\"#00cc96\",\"#ab63fa\",\"#FFA15A\",\"#19d3f3\",\"#FF6692\",\"#B6E880\",\"#FF97FF\",\"#FECB52\"],\"font\":{\"color\":\"#2a3f5f\"},\"hovermode\":\"closest\",\"hoverlabel\":{\"align\":\"left\"},\"paper_bgcolor\":\"white\",\"plot_bgcolor\":\"#E5ECF6\",\"polar\":{\"bgcolor\":\"#E5ECF6\",\"angularaxis\":{\"gridcolor\":\"white\",\"linecolor\":\"white\",\"ticks\":\"\"},\"radialaxis\":{\"gridcolor\":\"white\",\"linecolor\":\"white\",\"ticks\":\"\"}},\"ternary\":{\"bgcolor\":\"#E5ECF6\",\"aaxis\":{\"gridcolor\":\"white\",\"linecolor\":\"white\",\"ticks\":\"\"},\"baxis\":{\"gridcolor\":\"white\",\"linecolor\":\"white\",\"ticks\":\"\"},\"caxis\":{\"gridcolor\":\"white\",\"linecolor\":\"white\",\"ticks\":\"\"}},\"coloraxis\":{\"colorbar\":{\"outlinewidth\":0,\"ticks\":\"\"}},\"colorscale\":{\"sequential\":[[0.0,\"#0d0887\"],[0.1111111111111111,\"#46039f\"],[0.2222222222222222,\"#7201a8\"],[0.3333333333333333,\"#9c179e\"],[0.4444444444444444,\"#bd3786\"],[0.5555555555555556,\"#d8576b\"],[0.6666666666666666,\"#ed7953\"],[0.7777777777777778,\"#fb9f3a\"],[0.8888888888888888,\"#fdca26\"],[1.0,\"#f0f921\"]],\"sequentialminus\":[[0.0,\"#0d0887\"],[0.1111111111111111,\"#46039f\"],[0.2222222222222222,\"#7201a8\"],[0.3333333333333333,\"#9c179e\"],[0.4444444444444444,\"#bd3786\"],[0.5555555555555556,\"#d8576b\"],[0.6666666666666666,\"#ed7953\"],[0.7777777777777778,\"#fb9f3a\"],[0.8888888888888888,\"#fdca26\"],[1.0,\"#f0f921\"]],\"diverging\":[[0,\"#8e0152\"],[0.1,\"#c51b7d\"],[0.2,\"#de77ae\"],[0.3,\"#f1b6da\"],[0.4,\"#fde0ef\"],[0.5,\"#f7f7f7\"],[0.6,\"#e6f5d0\"],[0.7,\"#b8e186\"],[0.8,\"#7fbc41\"],[0.9,\"#4d9221\"],[1,\"#276419\"]]},\"xaxis\":{\"gridcolor\":\"white\",\"linecolor\":\"white\",\"ticks\":\"\",\"title\":{\"standoff\":15},\"zerolinecolor\":\"white\",\"automargin\":true,\"zerolinewidth\":2},\"yaxis\":{\"gridcolor\":\"white\",\"linecolor\":\"white\",\"ticks\":\"\",\"title\":{\"standoff\":15},\"zerolinecolor\":\"white\",\"automargin\":true,\"zerolinewidth\":2},\"scene\":{\"xaxis\":{\"backgroundcolor\":\"#E5ECF6\",\"gridcolor\":\"white\",\"linecolor\":\"white\",\"showbackground\":true,\"ticks\":\"\",\"zerolinecolor\":\"white\",\"gridwidth\":2},\"yaxis\":{\"backgroundcolor\":\"#E5ECF6\",\"gridcolor\":\"white\",\"linecolor\":\"white\",\"showbackground\":true,\"ticks\":\"\",\"zerolinecolor\":\"white\",\"gridwidth\":2},\"zaxis\":{\"backgroundcolor\":\"#E5ECF6\",\"gridcolor\":\"white\",\"linecolor\":\"white\",\"showbackground\":true,\"ticks\":\"\",\"zerolinecolor\":\"white\",\"gridwidth\":2}},\"shapedefaults\":{\"line\":{\"color\":\"#2a3f5f\"}},\"annotationdefaults\":{\"arrowcolor\":\"#2a3f5f\",\"arrowhead\":0,\"arrowwidth\":1},\"geo\":{\"bgcolor\":\"white\",\"landcolor\":\"#E5ECF6\",\"subunitcolor\":\"white\",\"showland\":true,\"showlakes\":true,\"lakecolor\":\"white\"},\"title\":{\"x\":0.05},\"mapbox\":{\"style\":\"light\"}}},\"xaxis\":{\"anchor\":\"y\",\"domain\":[0.0,1.0],\"title\":{\"text\":\"Country\"}},\"yaxis\":{\"anchor\":\"x\",\"domain\":[0.0,1.0],\"title\":{\"text\":\"Total Goals\"}},\"legend\":{\"tracegroupgap\":0},\"title\":{\"text\":\"Total Goals Scored by Player 8198 in Each Country\"},\"barmode\":\"relative\",\"height\":600,\"hoverlabel\":{\"font\":{\"size\":12,\"family\":\"Rockwell\"},\"bgcolor\":\"white\"}},                        {\"responsive\": true}                    ).then(function(){\n",
              "                            \n",
              "var gd = document.getElementById('8f13c012-c7e4-4142-a305-2b225284e171');\n",
              "var x = new MutationObserver(function (mutations, observer) {{\n",
              "        var display = window.getComputedStyle(gd).display;\n",
              "        if (!display || display === 'none') {{\n",
              "            console.log([gd, 'removed!']);\n",
              "            Plotly.purge(gd);\n",
              "            observer.disconnect();\n",
              "        }}\n",
              "}});\n",
              "\n",
              "// Listen for the removal of the full notebook cells\n",
              "var notebookContainer = gd.closest('#notebook-container');\n",
              "if (notebookContainer) {{\n",
              "    x.observe(notebookContainer, {childList: true});\n",
              "}}\n",
              "\n",
              "// Listen for the clearing of the current output cell\n",
              "var outputEl = gd.closest('.output');\n",
              "if (outputEl) {{\n",
              "    x.observe(outputEl, {childList: true});\n",
              "}}\n",
              "\n",
              "                        })                };                            </script>        </div>\n",
              "</body>\n",
              "</html>"
            ]
          },
          "metadata": {}
        }
      ]
    },
    {
      "cell_type": "code",
      "source": [],
      "metadata": {
        "id": "U0QTuV8QXB67"
      },
      "execution_count": null,
      "outputs": []
    }
  ]
}